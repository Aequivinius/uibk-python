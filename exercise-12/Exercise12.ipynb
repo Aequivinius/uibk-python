{
 "cells": [
  {
   "cell_type": "markdown",
   "id": "c6283ff5",
   "metadata": {},
   "source": [
    "# Who talks more about them selfes? #\n",
    "\n",
    "Find out below in this test program to see who uses more personal pronouns of the first or the second person."
   ]
  },
  {
   "cell_type": "code",
   "execution_count": 39,
   "id": "1f53175b",
   "metadata": {},
   "outputs": [],
   "source": [
    "import spacy"
   ]
  },
  {
   "cell_type": "code",
   "execution_count": 40,
   "id": "4ee4e323",
   "metadata": {},
   "outputs": [],
   "source": [
    "nlp = spacy.load(\"en_core_web_sm\")"
   ]
  },
  {
   "cell_type": "code",
   "execution_count": 41,
   "id": "fe81e9a6",
   "metadata": {
    "scrolled": true
   },
   "outputs": [],
   "source": [
    "import os\n",
    "from tqdm.auto import tqdm\n",
    "\n",
    "corpus_path = \"corpus\"\n",
    "\n",
    "directories = os.scandir(corpus_path)\n",
    "names = []\n",
    "\n",
    "for directory in directories:\n",
    "    if directory.is_dir():\n",
    "        names += [directory.name]\n",
    "    \n",
    "sorted_paths = []\n",
    "\n",
    "for name in names:\n",
    "    names_path = corpus_path + \"/\" + name\n",
    "    name_paths = []\n",
    "    \n",
    "    for (dirpath, dirnames, filenames) in os.walk(names_path):\n",
    "        name_paths += [os.path.join(dirpath, filename) for filename in filenames]\n",
    "    sorted_paths.append(name_paths)\n",
    "    "
   ]
  },
  {
   "cell_type": "markdown",
   "id": "f2461802",
   "metadata": {},
   "source": [
    "Somehow I managed to break the tqdm in the following iteration :/"
   ]
  },
  {
   "cell_type": "code",
   "execution_count": 69,
   "id": "d25e1ac2",
   "metadata": {
    "scrolled": true
   },
   "outputs": [
    {
     "data": {
      "application/vnd.jupyter.widget-view+json": {
       "model_id": "8bf85a1dea2746fa99c6fb7be9072390",
       "version_major": 2,
       "version_minor": 0
      },
      "text/plain": [
       "  0%|          | 0/100 [00:00<?, ?it/s]"
      ]
     },
     "metadata": {},
     "output_type": "display_data"
    },
    {
     "data": {
      "application/vnd.jupyter.widget-view+json": {
       "model_id": "6651e5ef0b294baf8613085d4c115200",
       "version_major": 2,
       "version_minor": 0
      },
      "text/plain": [
       "  0%|          | 0/100 [00:00<?, ?it/s]"
      ]
     },
     "metadata": {},
     "output_type": "display_data"
    },
    {
     "data": {
      "application/vnd.jupyter.widget-view+json": {
       "model_id": "af08d7880d0648899193c976fbbe0b7b",
       "version_major": 2,
       "version_minor": 0
      },
      "text/plain": [
       "  0%|          | 0/100 [00:00<?, ?it/s]"
      ]
     },
     "metadata": {},
     "output_type": "display_data"
    }
   ],
   "source": [
    "documents = []\n",
    "for name in range(len(names)):\n",
    "    document = []\n",
    "    source = sorted_paths[name]\n",
    "    for file in tqdm(source[:100]):\n",
    "        with open(file, 'r', encoding = \"utf-8\") as f:\n",
    "            document.append(f.read())\n",
    "    documents.append(nlp(str(document)))\n",
    "                "
   ]
  },
  {
   "cell_type": "code",
   "execution_count": 78,
   "id": "329cee3d",
   "metadata": {},
   "outputs": [
    {
     "name": "stdout",
     "output_type": "stream",
     "text": [
      "[197, 348, 497]\n",
      "[134, 233, 369]\n"
     ]
    }
   ],
   "source": [
    "first_pers = []\n",
    "sec_pers = []\n",
    "count_first = 0\n",
    "count_sec = 0\n",
    "for document in documents:\n",
    "    for sent in document.sents:\n",
    "        for token in sent:\n",
    "            if token.lemma_ == \"I\" and token.dep_ == \"nsubj\":\n",
    "                count_first += 1\n",
    "            elif token.lemma_ == \"you\" and token.dep_ == \"nsubj\":\n",
    "                count_sec += 1\n",
    "    first_pers.append(count_first)\n",
    "    sec_pers.append(count_sec)\n",
    "    \n",
    "    \n",
    "print(first_pers)\n",
    "print(sec_pers)"
   ]
  },
  {
   "cell_type": "code",
   "execution_count": 88,
   "id": "926bff31",
   "metadata": {},
   "outputs": [
    {
     "data": {
      "image/png": "[encoded data removed]",
      "text/plain": [
       "<Figure size 1440x432 with 1 Axes>"
      ]
     },
     "metadata": {
      "needs_background": "light"
     },
     "output_type": "display_data"
    }
   ],
   "source": [
    "import matplotlib.pyplot as plt\n",
    "\n",
    "figure, ax = plt.subplots(1, 1, figsize=(20, 6))\n",
    "figure.suptitle = \"First and second person pronouns\"\n",
    "\n",
    "total = [first_pers[i] + sec_pers[i] for i in range(len(first_pers))]\n",
    "x = names\n",
    "y = [first_pers[i]/total[i] for i in range(len(first_pers))]\n",
    "z = [sec_pers[i]/total[i] for i in range(len(first_pers))]\n",
    "\n",
    "ax.bar(x, y, color = \"r\", label = \"First person (I)\")\n",
    "ax.bar(x, z, color = \"b\", label = \"Second person (you)\", bottom = z)\n",
    "ax.legend()\n",
    "\n",
    "plt.show()"
   ]
  },
  {
   "cell_type": "code",
   "execution_count": null,
   "id": "736d6364",
   "metadata": {},
   "outputs": [],
   "source": []
  }
 ],
 "metadata": {
  "kernelspec": {
   "display_name": "Python 3",
   "language": "python",
   "name": "python3"
  },
  "language_info": {
   "codemirror_mode": {
    "name": "ipython",
    "version": 3
   },
   "file_extension": ".py",
   "mimetype": "text/x-python",
   "name": "python",
   "nbconvert_exporter": "python",
   "pygments_lexer": "ipython3",
   "version": "3.8.5"
  }
 },
 "nbformat": 4,
 "nbformat_minor": 5
}
