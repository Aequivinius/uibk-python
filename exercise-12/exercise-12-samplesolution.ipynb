{
 "cells": [
  {
   "cell_type": "code",
   "execution_count": 4,
   "id": "2d176253",
   "metadata": {
    "scrolled": true
   },
   "outputs": [],
   "source": [
    "import spacy\n",
    "nlp=spacy.load(\"en_core_web_sm\")"
   ]
  },
  {
   "cell_type": "code",
   "execution_count": 7,
   "id": "7844e7c5",
   "metadata": {},
   "outputs": [],
   "source": [
    "import os\n",
    "\n",
    "def corpus_to_emails(corpus_path):\n",
    "    \"\"\"Returns a dictionary mapping persons a list of the paths of their emails\"\"\"\n",
    "    people = os.listdir(corpus_path)\n",
    "\n",
    "    people_emails = {}\n",
    "    for person in people:\n",
    "        person_path = os.path.join(corpus_path, person)\n",
    "        person_paths = []\n",
    "        for (dirpath, dirnames, filenames) in os.walk(person_path):\n",
    "            person_paths += [ os.path.join(dirpath, filename) for filename in filenames ]\n",
    "        people_emails[person] = person_paths\n",
    "    return people_emails\n",
    "\n",
    "corpus_path = \"corpus\"\n",
    "people_emails = corpus_to_emails(corpus_path)"
   ]
  },
  {
   "cell_type": "code",
   "execution_count": 20,
   "id": "8a309f7a",
   "metadata": {},
   "outputs": [],
   "source": [
    "selected_few = [ \"allen-p\", \"arnold-j\", \"arora-h\" ]\n",
    "people_emails = { person : people_emails[person] for person in selected_few }"
   ]
  },
  {
   "cell_type": "code",
   "execution_count": 26,
   "id": "8ea28ab2",
   "metadata": {},
   "outputs": [
    {
     "data": {
      "application/vnd.jupyter.widget-view+json": {
       "model_id": "e659487d9dc54f2c8af9319098123e44",
       "version_major": 2,
       "version_minor": 0
      },
      "text/plain": [
       "  0%|          | 0/100 [00:00<?, ?it/s]"
      ]
     },
     "metadata": {},
     "output_type": "display_data"
    },
    {
     "name": "stdout",
     "output_type": "stream",
     "text": [
      "✌️You might be the person with the strength, stamina, and general dorkiness to win the World Mouseclicking Competition.\n",
      "\n",
      "☝️And I'm burnin', I'm burnin', I'm burnin' for you \n",
      "\n",
      "✌️Please send your questions and comments to mailto:investor.help@multex.com  If you'd like to learn more about Multex Investor, please visit: \n",
      "\n"
     ]
    },
    {
     "data": {
      "application/vnd.jupyter.widget-view+json": {
       "model_id": "561815d4993f4c499d70a136ace2f08b",
       "version_major": 2,
       "version_minor": 0
      },
      "text/plain": [
       "  0%|          | 0/100 [00:00<?, ?it/s]"
      ]
     },
     "metadata": {},
     "output_type": "display_data"
    },
    {
     "name": "stdout",
     "output_type": "stream",
     "text": [
      "☝️I put a restaurant on  a boat.\"\n",
      "\n",
      "☝️Lober had a $30,000 monthly overhead in debt service, office rental,  insurance and slip fees, and \"I still had to pay it if the boat didn't leave  once,\" he said.\n",
      "\n",
      "☝️\"I think we're in the political season where people are proposing grandiose  schemes that aren't very well thought out, and this seems to be one of  those,\" Eachus said.\n",
      "\n",
      "☝️And the  press corps has been very respectful in the past of treating family matters  with privacy, and I'm certain that you're going to do so again.\n",
      "\n",
      "✌️Please list all Notes databases applications that you currently use:\n",
      "\n",
      "✌️You'll know you have placed your order when you reach a screen that  says,  \"Thank you for your order.\n",
      "\n"
     ]
    },
    {
     "data": {
      "application/vnd.jupyter.widget-view+json": {
       "model_id": "772602aa1e524795891278b8cee7d3e9",
       "version_major": 2,
       "version_minor": 0
      },
      "text/plain": [
       "  0%|          | 0/100 [00:00<?, ?it/s]"
      ]
     },
     "metadata": {},
     "output_type": "display_data"
    },
    {
     "name": "stdout",
     "output_type": "stream",
     "text": [
      "✌️http://www.multexinvestor.com/welcome.asp  If you can't remember your password and/or your user name, click here: \n",
      "\n",
      "✌️  Choosing a retirement plan for your business or yourself is one of the most  important financial decisions you will make.\n",
      "\n",
      "✌️Up to 10.75% may be added to the rental rate if you rent at an off-airport location and exit on our shuttle bus.\n",
      "\n",
      "✌️Now you can send it to a friend with just  a click.\n",
      "\n",
      "✌️Before you do anything else today, check to see that you have enough coverage to protect your family's financial and education needs.\n",
      "\n",
      "✌️How can you minimize your tax obligations?\n",
      "\n",
      "✌️If you need assistance please visit: http://continentalairlines.rsc01.net/servlet/cc4?JHEVAV*oHkhkHQLJmELgkhgEJht*z*VVA\n",
      "\n"
     ]
    }
   ],
   "source": [
    "from tqdm.auto import tqdm\n",
    "\n",
    "def email_to_ego(path, nlp):\n",
    "    \"\"\"Returns the number of times 'I' and 'you' are used as a 'nsubj', respectively\"\"\"\n",
    "    ises = 0\n",
    "    youses = 0\n",
    "    \n",
    "    with open(path) as f:\n",
    "        document = nlp(f.read())\n",
    "        \n",
    "        for token in document:\n",
    "            if token.dep_ == 'nsubj' and token.lemma_.lower() == \"i\" and token.pos_ == \"PRON\":\n",
    "                ises += 1\n",
    "                \n",
    "                ### every 10th of ises, we print out the sentence to keep us entertained \n",
    "                if ises % 10 == 0:\n",
    "                    print(\"☝️\" + token.sent.text.replace(\"\\n\",\" \") + \"\\n\")\n",
    "            if token.dep_ == 'nsubj' and token.lemma_.lower() == \"you\" and token.pos_ == \"PRON\":\n",
    "                youses += 1\n",
    "                \n",
    "                if youses % 10 == 0:\n",
    "                    print(\"✌️\" + token.sent.text.replace(\"\\n\",\" \") + \"\\n\")\n",
    "    return ises, youses\n",
    "\n",
    "def emails_to_egos(people_emails, nlp):\n",
    "    # Passing the nlp-object we defined above to the function to save time, \n",
    "    # so we don't have to create it anew for every email.\n",
    "    people_egos = {}\n",
    "    \n",
    "    for person, emails in people_emails.items():\n",
    "        \n",
    "        ises = 0\n",
    "        youses = 0\n",
    "        for email in tqdm(emails[:100]):\n",
    "            ises_, youses_ = email_to_ego(email, nlp)\n",
    "            ises += ises_\n",
    "            youses += youses_\n",
    "        people_egos[person] = { \"ises\" : ises, \"youses\" : youses }\n",
    "    return people_egos\n",
    "        \n",
    "people_egos = emails_to_egos(people_emails, nlp)"
   ]
  },
  {
   "cell_type": "code",
   "execution_count": 27,
   "id": "da3183ad",
   "metadata": {},
   "outputs": [
    {
     "name": "stdout",
     "output_type": "stream",
     "text": [
      "{'allen-p': {'ises': 110, 'youses': 225}, 'arnold-j': {'ises': 189, 'youses': 161}, 'arora-h': {'ises': 40, 'youses': 246}}\n"
     ]
    }
   ],
   "source": [
    "print(people_egos)"
   ]
  },
  {
   "cell_type": "code",
   "execution_count": 29,
   "id": "eae47020",
   "metadata": {},
   "outputs": [
    {
     "data": {
      "image/png": "[encoded data removed]",
      "text/plain": [
       "<Figure size 1440x432 with 1 Axes>"
      ]
     },
     "metadata": {
      "needs_background": "light"
     },
     "output_type": "display_data"
    }
   ],
   "source": [
    "import matplotlib.pyplot as plt\n",
    "\n",
    "ises = [ people_egos[p][\"ises\"] for p in people_egos.keys() ]\n",
    "youses = [ people_egos[p][\"youses\"] for p in people_egos.keys() ]\n",
    "\n",
    "total = [ i + y for i, y in zip(ises, youses) ]\n",
    "ises = [ ises/total[i] for i, ises in enumerate(ises) ]\n",
    "youses = [ youses/total[i] for i, youses in enumerate(youses) ]\n",
    "\n",
    "bar_width = 0.6\n",
    "\n",
    "figure, axes = plt.subplots(1, 1, figsize=(20,6), sharey=True)\n",
    "axis = axes\n",
    "\n",
    "figure.suptitle(\"Egoism in the ENRON dataset\")\n",
    "axis.bar(people_egos.keys(), ises, bar_width, label=\"'I' as subject\")\n",
    "axis.bar(people_egos.keys(), youses, bar_width, label=\"'you' as subject\", bottom=ises)\n",
    "\n",
    "\n",
    "axis.set_ylabel(\"Proportion of sentences\")\n",
    "axis.legend()\n",
    "axis.tick_params(left=False)\n",
    "\n",
    "axis.spines['right'].set_visible(False)\n",
    "\n",
    "plt.show()"
   ]
  },
  {
   "cell_type": "code",
   "execution_count": null,
   "id": "125befa7",
   "metadata": {},
   "outputs": [],
   "source": []
  }
 ],
 "metadata": {
  "kernelspec": {
   "display_name": "Python 3",
   "language": "python",
   "name": "python3"
  },
  "language_info": {
   "codemirror_mode": {
    "name": "ipython",
    "version": 3
   },
   "file_extension": ".py",
   "mimetype": "text/x-python",
   "name": "python",
   "nbconvert_exporter": "python",
   "pygments_lexer": "ipython3",
   "version": "3.9.5"
  }
 },
 "nbformat": 4,
 "nbformat_minor": 5
}
