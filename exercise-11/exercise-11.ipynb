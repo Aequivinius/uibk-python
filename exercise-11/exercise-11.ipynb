{
 "cells": [
  {
   "cell_type": "code",
   "execution_count": 83,
   "id": "be48b730",
   "metadata": {},
   "outputs": [
    {
     "name": "stderr",
     "output_type": "stream",
     "text": [
      "[nltk_data] Downloading package stopwords to\n",
      "[nltk_data]     C:\\Users\\Anwender\\AppData\\Roaming\\nltk_data...\n",
      "[nltk_data]   Package stopwords is already up-to-date!\n",
      "[nltk_data] Downloading package twitter_samples to\n",
      "[nltk_data]     C:\\Users\\Anwender\\AppData\\Roaming\\nltk_data...\n",
      "[nltk_data]   Package twitter_samples is already up-to-date!\n",
      "[nltk_data] Downloading package vader_lexicon to\n",
      "[nltk_data]     C:\\Users\\Anwender\\AppData\\Roaming\\nltk_data...\n",
      "[nltk_data]   Package vader_lexicon is already up-to-date!\n"
     ]
    },
    {
     "data": {
      "text/plain": [
       "True"
      ]
     },
     "execution_count": 83,
     "metadata": {},
     "output_type": "execute_result"
    }
   ],
   "source": [
    "import nltk\n",
    "nltk.download([\"stopwords\", \"twitter_samples\", \"vader_lexicon\"])"
   ]
  },
  {
   "cell_type": "code",
   "execution_count": 84,
   "id": "fe8215a0",
   "metadata": {},
   "outputs": [],
   "source": [
    "tweets = nltk.corpus.twitter_samples.strings()"
   ]
  },
  {
   "cell_type": "code",
   "execution_count": 85,
   "id": "4aac71aa",
   "metadata": {},
   "outputs": [
    {
     "name": "stdout",
     "output_type": "stream",
     "text": [
      "30000\n",
      "[\"@seanactual You mean you're not offering? :(\", 'Saturday Classes! :(', \"@EE I'm bad and kind of want an IPhone 6 but account says I can upgrade April 2016 too far :( *cont\", 'You need to come back to England....:(  @MacHarmon', 'JAMES wore this in my meet and greet :((( http://t.co/MS60gaiIce']\n"
     ]
    }
   ],
   "source": [
    "print(len(tweets))\n",
    "print(tweets[1000:1005])"
   ]
  },
  {
   "cell_type": "code",
   "execution_count": 86,
   "id": "742fbeb2",
   "metadata": {},
   "outputs": [],
   "source": [
    "from nltk.tokenize import TweetTokenizer\n",
    "tweettok = TweetTokenizer()\n",
    "\n",
    "tokens = []\n",
    "\n",
    "for tweet in tweets:    \n",
    "    tokens.extend(tweettok.tokenize(tweet))"
   ]
  },
  {
   "cell_type": "code",
   "execution_count": 87,
   "id": "5f375ea3",
   "metadata": {},
   "outputs": [
    {
     "name": "stdout",
     "output_type": "stream",
     "text": [
      "179\n"
     ]
    },
    {
     "data": {
      "text/plain": [
       "['i',\n",
       " 'me',\n",
       " 'my',\n",
       " 'myself',\n",
       " 'we',\n",
       " 'our',\n",
       " 'ours',\n",
       " 'ourselves',\n",
       " 'you',\n",
       " \"you're\",\n",
       " \"you've\",\n",
       " \"you'll\",\n",
       " \"you'd\",\n",
       " 'your',\n",
       " 'yours',\n",
       " 'yourself',\n",
       " 'yourselves',\n",
       " 'he',\n",
       " 'him',\n",
       " 'his']"
      ]
     },
     "execution_count": 87,
     "metadata": {},
     "output_type": "execute_result"
    }
   ],
   "source": [
    "stopwords = nltk.corpus.stopwords.words(\"english\")\n",
    "print(len(stopwords))\n",
    "stopwords[:20]"
   ]
  },
  {
   "cell_type": "code",
   "execution_count": 88,
   "id": "89e5bcac",
   "metadata": {},
   "outputs": [
    {
     "name": "stdout",
     "output_type": "stream",
     "text": [
      "580006\n",
      "413287\n"
     ]
    }
   ],
   "source": [
    "print(len(tokens))\n",
    "tokens = [ token for token in tokens if token.lower() not in stopwords ]\n",
    "print(len(tokens))"
   ]
  },
  {
   "cell_type": "code",
   "execution_count": 89,
   "id": "b5417c72",
   "metadata": {
    "scrolled": true
   },
   "outputs": [
    {
     "data": {
      "text/plain": [
       "[(':', 17091),\n",
       " ('.', 15021),\n",
       " ('RT', 13539),\n",
       " (',', 9244),\n",
       " ('…', 6429),\n",
       " ('Miliband', 5222),\n",
       " ('\"', 4749),\n",
       " (':(', 4592),\n",
       " ('!', 4591),\n",
       " ('SNP', 4491),\n",
       " ('Tories', 3923),\n",
       " (':)', 3738),\n",
       " ('?', 3557),\n",
       " ('-', 2912),\n",
       " ('Ed', 2687),\n",
       " (\"'\", 2476),\n",
       " ('(', 2460),\n",
       " ('Cameron', 2419),\n",
       " ('...', 2347),\n",
       " ('Labour', 2341),\n",
       " ('%', 2301),\n",
       " ('#bbcqt', 2106),\n",
       " ('David', 1672),\n",
       " ('Farage', 1640),\n",
       " (')', 1634),\n",
       " ('Tory', 1531),\n",
       " ('rather', 1530),\n",
       " ('UKIP', 1519),\n",
       " ('&', 1458),\n",
       " ('would', 1414),\n",
       " ('/', 1352),\n",
       " ('let', 1346),\n",
       " ('deal', 1212),\n",
       " ('work', 1186),\n",
       " ('#AskNigelFarage', 1168),\n",
       " (\"I'm\", 1150),\n",
       " ('vote', 1139),\n",
       " ('http', 1104),\n",
       " ('like', 1046),\n",
       " ('support', 974),\n",
       " ('Clegg', 956),\n",
       " ('people', 948),\n",
       " ('going', 941),\n",
       " ('get', 925),\n",
       " ('#UKIP', 911),\n",
       " ('Nigel', 902),\n",
       " ('want', 893),\n",
       " ('tonight', 876),\n",
       " ('1', 859),\n",
       " ('come', 855)]"
      ]
     },
     "execution_count": 89,
     "metadata": {},
     "output_type": "execute_result"
    }
   ],
   "source": [
    "fd = nltk.FreqDist(tokens)\n",
    "fd.most_common(50)"
   ]
  },
  {
   "cell_type": "code",
   "execution_count": 90,
   "id": "cb5fbd18",
   "metadata": {
    "scrolled": true
   },
   "outputs": [
    {
     "name": "stdout",
     "output_type": "stream",
     "text": [
      "3591\n",
      "1016\n",
      "9563\n"
     ]
    }
   ],
   "source": [
    "#fd.most_common(2).plot()\n",
    "#invest_tokens = [':)', 'tonight', 'ed']\n",
    "\n",
    "tweets_smile = [tweet for tweet in tweets if ':)' in tweet]\n",
    "tweets_tonight = [tweet for tweet in tweets if 'tonight' in tweet]\n",
    "tweets_ed = [tweet for tweet in tweets if 'ed' in tweet]\n",
    "print(len(tweets_smile))\n",
    "print(len(tweets_tonight))\n",
    "print(len(tweets_ed))"
   ]
  },
  {
   "cell_type": "code",
   "execution_count": 91,
   "id": "7bc90d7b",
   "metadata": {},
   "outputs": [
    {
     "name": "stdout",
     "output_type": "stream",
     "text": [
      "@Israelgirly They sure do, esp now when ppl are talking crap about Millie!! &gt;:( I'll go straight to that FB page:)\n",
      "{'neg': 0.102, 'neu': 0.709, 'pos': 0.188, 'compound': 0.2924}\n"
     ]
    }
   ],
   "source": [
    "from nltk.sentiment import SentimentIntensityAnalyzer\n",
    "sia = SentimentIntensityAnalyzer()\n",
    "sia.polarity_scores(\"Trump is stupid\")\n",
    "\n",
    "results_smile = [sia.polarity_scores(tweet) for tweet in tweets_smile]\n",
    "results_tonight = [sia.polarity_scores(tweet) for tweet in tweets_tonight]\n",
    "results_ed = [sia.polarity_scores(tweet) for tweet in tweets_ed]\n",
    "\n",
    "print(tweets_smile[0])\n",
    "print(results_smile[0])"
   ]
  },
  {
   "cell_type": "code",
   "execution_count": 99,
   "id": "494d09c6",
   "metadata": {},
   "outputs": [
    {
     "name": "stdout",
     "output_type": "stream",
     "text": [
      "0.06898612348838977\n",
      "0.9310138765116103\n"
     ]
    }
   ],
   "source": [
    "average_smile = {'neg':0, 'pos':0}\n",
    "for result in results_smile:\n",
    "    average_smile['neg'] += result['neg']\n",
    "    average_smile['pos'] += result['pos']\n",
    "average_smile['neg'] = average_smile['neg']/len(results_smile)\n",
    "average_smile['pos'] = average_smile['pos']/len(results_smile)\n",
    "sum_smile = average_smile['neg'] + average_smile['pos']\n",
    "average_smile['neg'] = average_smile['neg'] / (sum_smile)\n",
    "average_smile['pos'] = average_smile['pos'] / (sum_smile)\n",
    "print(average_smile['neg'])\n",
    "print(average_smile['pos'])\n",
    "\n",
    "average_tonight = {'neg':0, 'pos':0}\n",
    "for result in results_tonight:\n",
    "    average_tonight['neg'] += result['neg']\n",
    "    average_tonight['pos'] += result['pos']\n",
    "average_tonight['neg'] = average_tonight['neg']/len(results_tonight)\n",
    "average_tonight['pos'] = average_tonight['pos']/len(results_tonight)\n",
    "sum_tonight = average_tonight['neg'] + average_tonight['pos']\n",
    "average_tonight['neg'] = average_tonight['neg'] / (sum_tonight)\n",
    "average_tonight['pos'] = average_tonight['pos'] / (sum_tonight)\n",
    "\n",
    "average_ed = {'neg':0, 'pos':0}\n",
    "for result in results_ed:\n",
    "    average_ed['neg'] += result['neg']\n",
    "    average_ed['pos'] += result['pos']\n",
    "average_ed['neg'] = average_ed['neg']/len(results_ed)\n",
    "average_ed['pos'] = average_ed['pos']/len(results_ed)\n",
    "sum_ed = average_ed['neg'] + average_ed['pos']\n",
    "average_ed['neg'] = average_ed['neg'] / (sum_ed)\n",
    "average_ed['pos'] = average_ed['pos'] / (sum_ed)\n"
   ]
  },
  {
   "cell_type": "code",
   "execution_count": 100,
   "id": "1dac5974",
   "metadata": {},
   "outputs": [
    {
     "name": "stdout",
     "output_type": "stream",
     "text": [
      "[0.9310138765116103, 0.6369153213378168, 0.567923287749928]\n",
      "[0.06898612348838977, 0.3630846786621832, 0.43207671225007194]\n"
     ]
    },
    {
     "data": {
      "image/png": "[encoded data removed]",
      "text/plain": [
       "<Figure size 432x288 with 1 Axes>"
      ]
     },
     "metadata": {
      "needs_background": "light"
     },
     "output_type": "display_data"
    }
   ],
   "source": [
    "import matplotlib.pyplot as plt\n",
    "pos_res = [average_smile['pos'], average_tonight['pos'], average_ed['pos']]\n",
    "neg_res = [average_smile['neg'], average_tonight['neg'], average_ed['neg']]\n",
    "print(pos_res)\n",
    "print(neg_res)\n",
    "words = [':)', 'tonight', 'ed']\n",
    "plt.bar(words, pos_res, color='green', label=\"positive\")\n",
    "plt.bar(words, neg_res, bottom = pos_res, color='red', label=\"negative\")\n",
    "plt.ylabel(\"Sentiment Score\")\n",
    "plt.legend()\n",
    "plt.show()"
   ]
  }
 ],
 "metadata": {
  "kernelspec": {
   "display_name": "Python 3",
   "language": "python",
   "name": "python3"
  },
  "language_info": {
   "codemirror_mode": {
    "name": "ipython",
    "version": 3
   },
   "file_extension": ".py",
   "mimetype": "text/x-python",
   "name": "python",
   "nbconvert_exporter": "python",
   "pygments_lexer": "ipython3",
   "version": "3.9.5"
  }
 },
 "nbformat": 4,
 "nbformat_minor": 5
}
