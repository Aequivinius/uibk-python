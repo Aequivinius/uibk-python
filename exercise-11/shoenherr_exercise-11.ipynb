{
 "cells": [
  {
   "cell_type": "markdown",
   "id": "norman-louisville",
   "metadata": {},
   "source": [
    "## Sentiment Analysis of old Tweets\n",
    "Using the ´twitter_samples´ corpus provided by nltk\n",
    "\n",
    "First, we will import nltk and download the corpus and all neccessary tools:"
   ]
  },
  {
   "cell_type": "code",
   "execution_count": 1,
   "id": "interior-brazilian",
   "metadata": {},
   "outputs": [
    {
     "name": "stdout",
     "output_type": "stream",
     "text": [
      "Collecting nltk\n",
      "  Downloading nltk-3.6.2-py3-none-any.whl (1.5 MB)\n",
      "\u001b[K     |████████████████████████████████| 1.5 MB 10.8 MB/s eta 0:00:01\n",
      "\u001b[?25hCollecting tqdm\n",
      "  Downloading tqdm-4.61.0-py2.py3-none-any.whl (75 kB)\n",
      "\u001b[K     |████████████████████████████████| 75 kB 5.4 MB/s  eta 0:00:01\n",
      "\u001b[?25hCollecting joblib\n",
      "  Downloading joblib-1.0.1-py3-none-any.whl (303 kB)\n",
      "\u001b[K     |████████████████████████████████| 303 kB 27.3 MB/s eta 0:00:01\n",
      "\u001b[?25hCollecting regex\n",
      "  Downloading regex-2021.4.4-cp37-cp37m-manylinux2014_x86_64.whl (720 kB)\n",
      "\u001b[K     |████████████████████████████████| 720 kB 14.7 MB/s eta 0:00:01\n",
      "\u001b[?25hCollecting click\n",
      "  Downloading click-8.0.1-py3-none-any.whl (97 kB)\n",
      "\u001b[K     |████████████████████████████████| 97 kB 6.3 MB/s  eta 0:00:01\n",
      "\u001b[?25hRequirement already satisfied: importlib-metadata in /srv/conda/envs/notebook/lib/python3.7/site-packages (from click->nltk) (3.4.0)\n",
      "Requirement already satisfied: zipp>=0.5 in /srv/conda/envs/notebook/lib/python3.7/site-packages (from importlib-metadata->click->nltk) (3.4.0)\n",
      "Requirement already satisfied: typing-extensions>=3.6.4 in /srv/conda/envs/notebook/lib/python3.7/site-packages (from importlib-metadata->click->nltk) (3.7.4.3)\n",
      "Installing collected packages: tqdm, regex, joblib, click, nltk\n",
      "Successfully installed click-8.0.1 joblib-1.0.1 nltk-3.6.2 regex-2021.4.4 tqdm-4.61.0\n"
     ]
    },
    {
     "name": "stderr",
     "output_type": "stream",
     "text": [
      "[nltk_data] Downloading package stopwords to /home/jovyan/nltk_data...\n",
      "[nltk_data]   Unzipping corpora/stopwords.zip.\n",
      "[nltk_data] Downloading package twitter_samples to\n",
      "[nltk_data]     /home/jovyan/nltk_data...\n",
      "[nltk_data]   Unzipping corpora/twitter_samples.zip.\n",
      "[nltk_data] Downloading package vader_lexicon to\n",
      "[nltk_data]     /home/jovyan/nltk_data...\n",
      "[nltk_data] Downloading package punkt to /home/jovyan/nltk_data...\n",
      "[nltk_data]   Unzipping tokenizers/punkt.zip.\n"
     ]
    }
   ],
   "source": [
    "! pip install nltk\n",
    "import nltk\n",
    "nltk.download([\"stopwords\", \"twitter_samples\", \"vader_lexicon\"])\n",
    "\n",
    "tweets = nltk.corpus.twitter_samples.strings()\n",
    "\n",
    "nltk.download('punkt')\n",
    "from nltk.tokenize import TweetTokenizer, sent_tokenize\n",
    "tt = TweetTokenizer()\n",
    "st = sent_tokenize"
   ]
  },
  {
   "cell_type": "markdown",
   "id": "virtual-reaction",
   "metadata": {},
   "source": [
    "In a second step, the tweets are tokenized and filtered for stopwords:"
   ]
  },
  {
   "cell_type": "code",
   "execution_count": 2,
   "id": "elder-treasury",
   "metadata": {},
   "outputs": [],
   "source": [
    "tokens = []\n",
    "for tweet in tweets:\n",
    "    tokens.extend(tt.tokenize(tweet))\n",
    "    \n",
    "stopwords = nltk.corpus.stopwords.words(\"english\")\n",
    "tokens = [ token for token in tokens if token not in stopwords]"
   ]
  },
  {
   "cell_type": "markdown",
   "id": "spread-miami",
   "metadata": {},
   "source": [
    "now we want to find out the frequency of all words that are left:"
   ]
  },
  {
   "cell_type": "code",
   "execution_count": 6,
   "id": "indian-chassis",
   "metadata": {},
   "outputs": [
    {
     "name": "stdout",
     "output_type": "stream",
     "text": [
      "<FreqDist with 42349 samples and 433767 outcomes>\n",
      "The most frequent token is: ':'\n"
     ]
    }
   ],
   "source": [
    "fd = nltk.FreqDist(tokens)\n",
    "print (fd)\n",
    "print('The most frequent token is: \\'' + fd.max() + '\\'')"
   ]
  },
  {
   "cell_type": "markdown",
   "id": "veterinary-shipping",
   "metadata": {},
   "source": [
    "*':'* seems to be the most frequent token. However,we are searching for some more interesting words..."
   ]
  },
  {
   "cell_type": "code",
   "execution_count": 7,
   "id": "virgin-citation",
   "metadata": {
    "scrolled": true
   },
   "outputs": [
    {
     "name": "stdout",
     "output_type": "stream",
     "text": [
      "[(':', 17091), ('.', 15021), ('RT', 13539), (',', 9244), ('…', 6429), ('Miliband', 5222), ('I', 4931), ('\"', 4749), (':(', 4592), ('!', 4591), ('SNP', 4491), ('Tories', 3923), (':)', 3738), ('?', 3557), ('-', 2912), ('Ed', 2687), (\"'\", 2476), ('(', 2460), ('Cameron', 2419), ('...', 2347), ('Labour', 2341), ('%', 2301), ('#bbcqt', 2106), ('The', 2029), ('David', 1672), ('Farage', 1640), (')', 1634), ('Tory', 1531), ('rather', 1530), ('UKIP', 1519), ('&', 1458), ('would', 1414), ('/', 1352), ('let', 1346), ('deal', 1212), ('work', 1186), ('#AskNigelFarage', 1168), (\"I'm\", 1150), ('vote', 1139), ('If', 1137), ('http', 1104), ('like', 1046), ('support', 974), ('Clegg', 956), ('people', 948), ('going', 941), ('get', 925), ('#UKIP', 911), ('Nigel', 902), ('want', 893)]\n",
      "\n",
      "\n",
      "The word 'work' occurs: 1186 times\n",
      "The word 'people' occurs: 948 times\n",
      "The word 'like' occurs: 1046 times\n"
     ]
    }
   ],
   "source": [
    "print(fd.most_common(50))\n",
    "print('\\n')\n",
    "print('The word \\'work\\' occurs:', fd['work'], 'times')\n",
    "print('The word \\'people\\' occurs:', fd['people'], 'times')\n",
    "print('The word \\'like\\' occurs:', fd['like'], 'times')"
   ]
  },
  {
   "cell_type": "markdown",
   "id": "moving-softball",
   "metadata": {},
   "source": [
    "It seems clear that these twitter posts were all about politics in Great Britain! However, since I don't know too much about british politics and therefore would not be able to enjoy the results of this exercise as much, I prefere to choose 3 words that are not directly connected to the topic.\n",
    "I opt for: *'work'*, *'people'* and *'like'*.\n",
    "\n",
    "Let's find out wether people talk in a positive or negative way when they use these 3 words!\n",
    "To do this, we first need to get all sentences which include the 3 words, since the nltk SentimentIntensityAnalyzer only works with full sentences."
   ]
  },
  {
   "cell_type": "code",
   "execution_count": 8,
   "id": "unexpected-baseline",
   "metadata": {},
   "outputs": [
    {
     "name": "stdout",
     "output_type": "stream",
     "text": [
      "[['hopeless', 'for', 'tmr', ':('], ['Everything', 'in', 'the', 'kids', 'section', 'of', 'IKEA', 'is', 'so', 'cute', '.'], ['Shame', \"I'm\", 'nearly', '19', 'in', '2', 'months', ':('], ['@Hegelbon', 'That', 'heart', 'sliding', 'into', 'the', 'waste', 'basket', '.'], [':(']]\n",
      "\n",
      "\n",
      "Number of sentences containing 'work': 1181\n",
      "Example for a sentence containing 'work': ['Dang', 'starting', 'next', 'week', 'I', 'have', '\"', 'work', '\"', ':('] \n",
      "\n",
      "Number of sentences containing 'people': 917\n",
      "Number of sentences containing 'like': 1018\n"
     ]
    }
   ],
   "source": [
    "sentences = []\n",
    "for tweet in tweets:\n",
    "    sentences.extend(st(tweet))\n",
    "\n",
    "tokenized_sentences = []\n",
    "for sentence in sentences:\n",
    "    tokenized_sentences.append(tt.tokenize(sentence))\n",
    "    \n",
    "print(tokenized_sentences[:5])\n",
    "\n",
    "work = [item for item in tokenized_sentences if 'work' in item]\n",
    "people = [item for item in tokenized_sentences if 'people' in item]\n",
    "like = [item for item in tokenized_sentences if 'like' in item]\n",
    "print('\\n')\n",
    "print('Number of sentences containing \\'work\\':', len(work))\n",
    "print('Example for a sentence containing \\'work\\':', work[0], '\\n')\n",
    "print('Number of sentences containing \\'people\\':', len(people))\n",
    "print('Number of sentences containing \\'like\\':', len(like))"
   ]
  },
  {
   "cell_type": "markdown",
   "id": "proud-carbon",
   "metadata": {},
   "source": [
    "Since we now have lists of sentences that contain our words of interest, we can feed them to the SentimentIntensityAnalyzer:"
   ]
  },
  {
   "cell_type": "code",
   "execution_count": null,
   "id": "forward-airplane",
   "metadata": {},
   "outputs": [],
   "source": [
    "from nltk.sentiment import SentimentIntensityAnalyzer\n",
    "sia = SentimentIntensityAnalyzer()\n",
    "\n",
    "work_joined = []\n",
    "for sentences in work:\n",
    "    work_joined.extend([' '.join(sentence) for sentence in work])\n",
    "    \n",
    "for sentence in work_joined:\n",
    "    average_neg_work = sum(sia.polarity_scores(sentence)[\"neg\"] for sentence in work_joined) / len(work_joined)\n",
    "    average_pos_work = sum(sia.polarity_scores(sentence)[\"pos\"] for sentence in work_joined) / len(work_joined)    \n",
    "\n",
    "print('The average negative sentiment when using the word \\'work\\' is: ' + \"{:.2f}\".format(average_neg_work) + ', the average positive sentiment is: ' + \"{:.2f}\".format(average_pos_work))\n",
    "    \n",
    "people_joined = []\n",
    "for sentences in people:\n",
    "    people_joined.extend([' '.join(sentence) for sentence in people])\n",
    "    \n",
    "for sentence in people_joined:\n",
    "    average_neg_people = sum(sia.polarity_scores(sentence)[\"neg\"] for sentence in people_joined) / len(people_joined)\n",
    "    average_pos_people = sum(sia.polarity_scores(sentence)[\"pos\"] for sentence in people_joined) / len(people_joined)    \n",
    "\n",
    "print('The average negative sentiment when using the word \\'people\\' is: ' + \"{:.2f}\".format(average_neg_people) + ', the average positive sentiment is: ' + \"{:.2f}\".format(average_pos_people))\n",
    "    \n",
    "like_joined = []\n",
    "for sentences in like:\n",
    "    like_joined.extend([' '.join(sentence) for sentence in like])\n",
    "    \n",
    "for sentence in like_joined:\n",
    "    average_neg_like = sum(sia.polarity_scores(sentence)[\"neg\"] for sentence in like_joined) / len(like_joined)\n",
    "    average_pos_like = sum(sia.polarity_scores(sentence)[\"pos\"] for sentence in like_joined) / len(like_joined)    \n",
    "\n",
    "print('The average negative sentiment when using the word \\'like\\' is: ' + \"{:.2f}\".format(average_neg_like) + ', the average positive sentiment is: ' + \"{:.2f}\".format(average_pos_like))"
   ]
  },
  {
   "cell_type": "markdown",
   "id": "native-orange",
   "metadata": {},
   "source": [
    "Since it's always nice to actually see results rather than just read numbers, we will now display the average positive and negative sentiment score as stacked bar plots:"
   ]
  },
  {
   "cell_type": "code",
   "execution_count": 26,
   "id": "electric-likelihood",
   "metadata": {},
   "outputs": [
    {
     "name": "stdout",
     "output_type": "stream",
     "text": [
      "Requirement already satisfied: matplotlib in /srv/conda/envs/notebook/lib/python3.7/site-packages (3.4.2)\r\n",
      "Requirement already satisfied: pillow>=6.2.0 in /srv/conda/envs/notebook/lib/python3.7/site-packages (from matplotlib) (8.2.0)\r\n",
      "Requirement already satisfied: numpy>=1.16 in /srv/conda/envs/notebook/lib/python3.7/site-packages (from matplotlib) (1.20.3)\r\n",
      "Requirement already satisfied: python-dateutil>=2.7 in /srv/conda/envs/notebook/lib/python3.7/site-packages (from matplotlib) (2.8.1)\r\n",
      "Requirement already satisfied: cycler>=0.10 in /srv/conda/envs/notebook/lib/python3.7/site-packages (from matplotlib) (0.10.0)\r\n",
      "Requirement already satisfied: kiwisolver>=1.0.1 in /srv/conda/envs/notebook/lib/python3.7/site-packages (from matplotlib) (1.3.1)\r\n",
      "Requirement already satisfied: pyparsing>=2.2.1 in /srv/conda/envs/notebook/lib/python3.7/site-packages (from matplotlib) (2.4.7)\r\n",
      "Requirement already satisfied: six in /srv/conda/envs/notebook/lib/python3.7/site-packages (from cycler>=0.10->matplotlib) (1.15.0)\r\n"
     ]
    },
    {
     "data": {
      "image/png": "[encoded data removed]",
      "text/plain": [
       "<Figure size 720x432 with 1 Axes>"
      ]
     },
     "metadata": {
      "needs_background": "light"
     },
     "output_type": "display_data"
    }
   ],
   "source": [
    "! pip install matplotlib\n",
    "import matplotlib.pyplot as plt\n",
    "\n",
    "labels = ['work', 'people', 'like']    \n",
    "A = [average_neg_work, average_neg_people, average_neg_like]\n",
    "B = [average_pos_work, average_pos_people, average_pos_like]\n",
    "width = 0.45\n",
    "\n",
    "fig, ax = plt.subplots(1, 1, figsize=(10,6))\n",
    "ax.set_ylabel('average sentiment')\n",
    "ax.set_title('Comparison of average Sentiment')\n",
    "\n",
    "\n",
    "ax.bar(labels, A, width, label='negative', c=\"tab:red\")\n",
    "ax.bar(labels, B, width, bottom=A, label='positive', c=\"yellowgreen\")\n",
    "ax.legend()\n",
    "plt.show()"
   ]
  },
  {
   "cell_type": "code",
   "execution_count": null,
   "id": "noticed-external",
   "metadata": {},
   "outputs": [],
   "source": []
  }
 ],
 "metadata": {
  "kernelspec": {
   "display_name": "Python 3",
   "language": "python",
   "name": "python3"
  },
  "language_info": {
   "codemirror_mode": {
    "name": "ipython",
    "version": 3
   },
   "file_extension": ".py",
   "mimetype": "text/x-python",
   "name": "python",
   "nbconvert_exporter": "python",
   "pygments_lexer": "ipython3",
   "version": "3.7.10"
  }
 },
 "nbformat": 4,
 "nbformat_minor": 5
}
