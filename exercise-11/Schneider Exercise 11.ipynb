{
 "cells": [
  {
   "cell_type": "markdown",
   "id": "9b532234",
   "metadata": {},
   "source": [
    "# Exercise 11\n",
    "## or `nltk` in action"
   ]
  },
  {
   "cell_type": "code",
   "execution_count": 118,
   "id": "c1bdccda",
   "metadata": {
    "scrolled": true
   },
   "outputs": [
    {
     "name": "stderr",
     "output_type": "stream",
     "text": [
      "[nltk_data] Downloading package stopwords to\n",
      "[nltk_data]     C:\\Users\\Johannes\\AppData\\Roaming\\nltk_data...\n",
      "[nltk_data]   Package stopwords is already up-to-date!\n",
      "[nltk_data] Downloading package twitter_samples to\n",
      "[nltk_data]     C:\\Users\\Johannes\\AppData\\Roaming\\nltk_data...\n",
      "[nltk_data]   Package twitter_samples is already up-to-date!\n",
      "[nltk_data] Downloading package vader_lexicon to\n",
      "[nltk_data]     C:\\Users\\Johannes\\AppData\\Roaming\\nltk_data...\n",
      "[nltk_data]   Package vader_lexicon is already up-to-date!\n"
     ]
    },
    {
     "data": {
      "text/plain": [
       "True"
      ]
     },
     "execution_count": 118,
     "metadata": {},
     "output_type": "execute_result"
    }
   ],
   "source": [
    "import nltk\n",
    "nltk.download([\"stopwords\", \"twitter_samples\", \"vader_lexicon\"])"
   ]
  },
  {
   "cell_type": "markdown",
   "id": "4810a9a2",
   "metadata": {},
   "source": [
    "Before starting the actual exercise, I shall take a look at a smaller sample of the corpus and pick 3 words to work with:"
   ]
  },
  {
   "cell_type": "code",
   "execution_count": 119,
   "id": "36d67412",
   "metadata": {},
   "outputs": [],
   "source": [
    "from nltk.corpus import twitter_samples\n",
    "tweets = twitter_samples.strings()"
   ]
  },
  {
   "cell_type": "code",
   "execution_count": 120,
   "id": "c90e0d20",
   "metadata": {
    "scrolled": true
   },
   "outputs": [],
   "source": [
    "from nltk.tokenize import TweetTokenizer\n",
    "tweettok = TweetTokenizer()\n",
    "\n",
    "tokens_last1k = []\n",
    "\n",
    "for tweet in tweets[len(tweets)-1000:]:\n",
    "    tokens_last1k.extend(tweettok.tokenize(tweet))"
   ]
  },
  {
   "cell_type": "code",
   "execution_count": 121,
   "id": "da5d7d77",
   "metadata": {},
   "outputs": [
    {
     "name": "stdout",
     "output_type": "stream",
     "text": [
      "22409\n",
      "16067\n"
     ]
    }
   ],
   "source": [
    "stopwords = nltk.corpus.stopwords.words(\"english\")\n",
    "print(len(tokens_last1k))\n",
    "tokens_nostop = [ token for token in tokens_last1k if token.lower() not in stopwords ]\n",
    "print(len(tokens_nostop))"
   ]
  },
  {
   "cell_type": "code",
   "execution_count": 122,
   "id": "4c6d415b",
   "metadata": {},
   "outputs": [
    {
     "name": "stdout",
     "output_type": "stream",
     "text": [
      "[(':', 881), ('RT', 666), ('.', 645), (',', 360), ('…', 332), ('SNP', 206), ('Miliband', 203), ('\"', 189), ('Tories', 184), ('Cameron', 157), ('David', 135), ('Labour', 113), ('?', 107), ('Ed', 103), ('#bbcqt', 102), ('UKIP', 98), ('Farage', 96), ('...', 95), ('!', 91), (\"'\", 90), ('%', 78), ('-', 77), ('vote', 70), ('rather', 68), ('UK', 68), ('&', 65), ('Tory', 65), ('would', 64), ('PM', 60), ('@Nigel_Farage', 59), ('#AskNigelFarage', 58), ('#UKIP', 55), ('Nigel', 53), ('http', 51), ('tonight', 51), ('deal', 50), ('says', 50), ('TV', 50), ('Election', 50), ('/', 48), ('support', 45), ('let', 44), ('work', 42), ('Wins', 42), ('Last', 42), ('Contest', 42), ('Campaign', 42), ('Poll', 42), ('@UKIP', 40), ('want', 40), ('(', 39), ('@Ed_Miliband', 39), ('Scotland', 38), ('w', 38), ('last', 37), ('come', 36), ('claiming', 36), ('people', 35), ('man', 35), ('Clegg', 35), ('#SNP', 34), ('like', 34), ('Lab', 34), ('Prime', 34), (':/', 33), (')', 32), ('’', 31), ('Minister', 31), ('say', 30), ('think', 29), ('leader', 29), ('going', 29), ('wrote', 28), ('inequality', 28), ('government', 28), (\"I'm\", 28), ('@Tommy_Colc', 27), ('preoccupied', 27), ('Times', 26), ('need', 25), ('well', 25), (\"he'd\", 25), ('#GE2015', 24), ('audience', 24), ('Financial', 23), ('party', 23), ('Sturgeon', 22), ('said', 21), ('get', 21), ('BBC', 21), ('@theSNP', 21), ('coalition', 21), ('Scottish', 20), ('£', 19), ('cuts', 19), ('right', 19), (\"I've\", 19), ('back', 19), ('power', 18), ('one', 18)]\n"
     ]
    }
   ],
   "source": [
    "fd_last1k = nltk.FreqDist(tokens_nostop)\n",
    "print(fd_last1k.most_common(100))\n",
    "\n",
    "#print(\"\\n\")\n",
    "#print(fd_last1k[\"power\"])\n",
    "#print(fd_last1k[\"right\"])\n",
    "#print(fd_last1k[\"deal\"])"
   ]
  },
  {
   "cell_type": "markdown",
   "id": "18143b79",
   "metadata": {},
   "source": [
    "I'm going to go with 'power', 'right' and 'deal'."
   ]
  },
  {
   "cell_type": "code",
   "execution_count": 123,
   "id": "6daf7ec0",
   "metadata": {},
   "outputs": [],
   "source": [
    "tokens_all = []\n",
    "\n",
    "for tweet in tweets:    \n",
    "    tokens.extend(tweettok.tokenize(tweet))"
   ]
  },
  {
   "cell_type": "code",
   "execution_count": 124,
   "id": "c8e4b2b8",
   "metadata": {},
   "outputs": [
    {
     "name": "stdout",
     "output_type": "stream",
     "text": [
      "@andytude typically we had a power cut last night and I missed it!:( was it good?\n",
      "{'neg': 0.248, 'neu': 0.595, 'pos': 0.157, 'compound': -0.1759}\n",
      "0.248\n"
     ]
    }
   ],
   "source": [
    "from nltk.sentiment import SentimentIntensityAnalyzer\n",
    "sia = SentimentIntensityAnalyzer()\n",
    "\n",
    "#print(tweets[10])\n",
    "#print(sia.polarity_scores(tweets[10]))\n",
    "\n",
    "tweets_power = [tweet for tweet in tweets if \"power\" in tweet]\n",
    "tweets_right = [tweet for tweet in tweets if \"right\" in tweet]\n",
    "tweets_deal = [tweet for tweet in tweets if \"deal\" in tweet]\n",
    "\n",
    "#print(len(tweets_power))\n",
    "#print(len(tweets_right))\n",
    "#print(len(tweets_deal))\n",
    "\n",
    "print(tweets_power[2])\n",
    "print(sia.polarity_scores(tweets_power[2]))\n",
    "print(sia.polarity_scores(tweets_power[2])[\"neg\"])"
   ]
  },
  {
   "cell_type": "code",
   "execution_count": 125,
   "id": "2fab03da",
   "metadata": {},
   "outputs": [],
   "source": [
    "power_neg = 0\n",
    "power_pos = 0\n",
    "for tweet in tweets_power:\n",
    "    power_neg += sia.polarity_scores(tweet)[\"neg\"]\n",
    "    power_pos += sia.polarity_scores(tweet)[\"pos\"]\n",
    "power_neg_avg = power_neg / len(tweets_power)\n",
    "power_pos_avg = power_pos / len(tweets_power)\n",
    "\n",
    "right_neg = 0\n",
    "right_pos = 0\n",
    "for tweet in tweets_right:\n",
    "    right_neg += sia.polarity_scores(tweet)[\"neg\"]\n",
    "    right_pos += sia.polarity_scores(tweet)[\"pos\"]\n",
    "right_neg_avg = right_neg / len(tweets_right)\n",
    "right_pos_avg = right_pos / len(tweets_right)\n",
    "\n",
    "deal_neg = 0\n",
    "deal_pos = 0\n",
    "for tweet in tweets_deal:\n",
    "    deal_neg += sia.polarity_scores(tweet)[\"neg\"]\n",
    "    deal_pos += sia.polarity_scores(tweet)[\"pos\"]\n",
    "deal_neg_avg = deal_neg / len(tweets_deal)\n",
    "deal_pos_avg = deal_pos / len(tweets_deal)\n",
    "\n",
    "\n",
    "#print(power_pos_avg)\n",
    "#print(power_neg_avg)\n",
    "#print(right_pos_avg)\n",
    "#print(right_neg_avg)\n",
    "#print(deal_pos_avg)\n",
    "#print(deal_neg_avg)"
   ]
  },
  {
   "cell_type": "code",
   "execution_count": 126,
   "id": "8078a578",
   "metadata": {},
   "outputs": [
    {
     "data": {
      "image/png": "[encoded data removed]",
      "text/plain": [
       "<Figure size 720x432 with 1 Axes>"
      ]
     },
     "metadata": {
      "needs_background": "light"
     },
     "output_type": "display_data"
    }
   ],
   "source": [
    "import matplotlib.pyplot as plt\n",
    "labels = [\"Power\", \"Right\", \"Deal\"]\n",
    "A = [power_pos_avg, right_pos_avg, deal_pos_avg]\n",
    "B = [power_neg_avg, right_neg_avg, deal_neg_avg]\n",
    "figure, ax = plt.subplots(1, 1, figsize=(10,6))\n",
    "figure.suptitle(\"Average sentiment of three random words in a Twitter sample\")\n",
    "ax.bar(labels, A, color=\"tab:green\")\n",
    "ax.bar(labels, B, bottom = A, color=\"tab:red\")\n",
    "plt.show()"
   ]
  }
 ],
 "metadata": {
  "kernelspec": {
   "display_name": "Python 3",
   "language": "python",
   "name": "python3"
  },
  "language_info": {
   "codemirror_mode": {
    "name": "ipython",
    "version": 3
   },
   "file_extension": ".py",
   "mimetype": "text/x-python",
   "name": "python",
   "nbconvert_exporter": "python",
   "pygments_lexer": "ipython3",
   "version": "3.9.2"
  }
 },
 "nbformat": 4,
 "nbformat_minor": 5
}
