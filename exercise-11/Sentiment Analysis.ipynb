{
 "cells": [
  {
   "cell_type": "markdown",
   "id": "16822a95",
   "metadata": {},
   "source": [
    "# Twitter Sentiments"
   ]
  },
  {
   "cell_type": "code",
   "execution_count": 1,
   "id": "e58c2c73",
   "metadata": {},
   "outputs": [],
   "source": [
    "import nltk\n",
    "from nltk.tokenize import TweetTokenizer\n",
    "from nltk.sentiment import SentimentIntensityAnalyzer as sia\n",
    "import matplotlib.pyplot as plt"
   ]
  },
  {
   "cell_type": "code",
   "execution_count": 2,
   "id": "2ac8621c",
   "metadata": {},
   "outputs": [],
   "source": [
    "raw_tweets = nltk.corpus.twitter_samples.strings()\n",
    "\n",
    "tweetedWords = []\n",
    "\n",
    "for tweet in raw_tweets:\n",
    "    tweetedWords.extend(TweetTokenizer().tokenize(tweet))"
   ]
  },
  {
   "cell_type": "code",
   "execution_count": 3,
   "id": "63160d5a",
   "metadata": {},
   "outputs": [
    {
     "name": "stdout",
     "output_type": "stream",
     "text": [
      "['hopeless', 'for', 'tmr', ':(', 'Everything', 'in', 'the', 'kids', 'section', 'of', 'IKEA', 'is', 'so', 'cute', '.', 'Shame', \"I'm\", 'nearly', '19', 'in']\n"
     ]
    }
   ],
   "source": [
    "print(tweetedWords[:20])"
   ]
  },
  {
   "cell_type": "code",
   "execution_count": 6,
   "id": "8c555cf2",
   "metadata": {},
   "outputs": [],
   "source": [
    "stopwords = nltk.corpus.stopwords.words(\"english\")\n",
    "\n",
    "groomedTweets = [ token.lower() for token in tweetedWords if token.lower() not in stopwords ]"
   ]
  },
  {
   "cell_type": "code",
   "execution_count": 7,
   "id": "47532e3a",
   "metadata": {},
   "outputs": [
    {
     "data": {
      "text/plain": [
       "[(':', 17091),\n",
       " ('.', 15021),\n",
       " ('rt', 13554),\n",
       " (',', 9244),\n",
       " ('…', 6429),\n",
       " ('miliband', 5318),\n",
       " ('\"', 4749),\n",
       " ('snp', 4611),\n",
       " (':(', 4592),\n",
       " ('!', 4591),\n",
       " ('tories', 4112),\n",
       " (':)', 3738),\n",
       " ('?', 3557),\n",
       " ('-', 2912),\n",
       " ('ed', 2819),\n",
       " ('labour', 2627),\n",
       " ('#bbcqt', 2617),\n",
       " (\"'\", 2476),\n",
       " ('cameron', 2468),\n",
       " ('(', 2460),\n",
       " ('...', 2347),\n",
       " ('%', 2301),\n",
       " ('farage', 1823),\n",
       " ('ukip', 1773),\n",
       " ('tory', 1714),\n",
       " ('david', 1699),\n",
       " (')', 1634),\n",
       " ('rather', 1546),\n",
       " ('would', 1509),\n",
       " ('vote', 1476),\n",
       " ('&', 1458),\n",
       " ('let', 1421),\n",
       " ('/', 1352),\n",
       " ('deal', 1235),\n",
       " (\"i'm\", 1231),\n",
       " ('work', 1197),\n",
       " ('#asknigelfarage', 1176),\n",
       " ('#ukip', 1125),\n",
       " ('http', 1104),\n",
       " ('like', 1098),\n",
       " ('get', 1044),\n",
       " ('people', 1015),\n",
       " ('clegg', 1001),\n",
       " ('nigel', 984),\n",
       " ('going', 977),\n",
       " ('support', 975),\n",
       " ('time', 974),\n",
       " ('tonight', 969),\n",
       " ('want', 926),\n",
       " ('come', 897),\n",
       " ('1', 859),\n",
       " ('scotland', 851),\n",
       " ('w', 847),\n",
       " ('need', 840),\n",
       " ('lab', 839),\n",
       " ('man', 837),\n",
       " ('says', 833),\n",
       " ('one', 832),\n",
       " ('leader', 821),\n",
       " ('claiming', 772),\n",
       " ('back', 765),\n",
       " (':/', 752),\n",
       " (':-)', 712),\n",
       " ('times', 709),\n",
       " ('#snp', 709),\n",
       " ('@ukip', 695),\n",
       " ('@ed_miliband', 694),\n",
       " ('mps', 692),\n",
       " ('well', 678),\n",
       " ('@nigel_farage', 674),\n",
       " (':d', 659),\n",
       " ('think', 658),\n",
       " ('#ge2015', 658),\n",
       " ('wrote', 650),\n",
       " ('see', 645),\n",
       " ('financial', 643),\n",
       " ('inequality', 641),\n",
       " ('preoccupied', 637),\n",
       " ('@nicolasturgeon', 636),\n",
       " ('say', 633),\n",
       " ('@tommy_colc', 632),\n",
       " ('good', 618),\n",
       " ('said', 599),\n",
       " ('audience', 590),\n",
       " ('u', 585),\n",
       " ('government', 583),\n",
       " ('please', 576),\n",
       " ('..', 573),\n",
       " ('thanks', 572),\n",
       " ('sturgeon', 556),\n",
       " ('know', 554),\n",
       " ('us', 554),\n",
       " ('*', 549),\n",
       " ('uk', 545),\n",
       " ('question', 535),\n",
       " ('love', 534),\n",
       " ('milliband', 530),\n",
       " ('party', 516),\n",
       " (\"can't\", 505),\n",
       " ('nick', 505)]"
      ]
     },
     "execution_count": 7,
     "metadata": {},
     "output_type": "execute_result"
    }
   ],
   "source": [
    "fd = nltk.FreqDist(groomedTweets)\n",
    "fd.most_common(100)"
   ]
  },
  {
   "cell_type": "markdown",
   "id": "ef8d6c4a",
   "metadata": {},
   "source": [
    "I'll pick \"miliband\", \"labour\", and \"love\" (so I won't use three political topics,\n",
    "since labour seems to be a modifier of party when you consider this very political frequency list)."
   ]
  },
  {
   "cell_type": "code",
   "execution_count": 8,
   "id": "5f3fba97",
   "metadata": {},
   "outputs": [],
   "source": [
    "miliband_list = [wholeTweet for wholeTweet in raw_tweets if \"miliband\" in wholeTweet.lower()]\n",
    "labour_list = [wholeTweet for wholeTweet in raw_tweets if \"labour\" in wholeTweet.lower()]\n",
    "love_list = [wholeTweet for wholeTweet in raw_tweets if \"love\" in wholeTweet.lower()]"
   ]
  },
  {
   "cell_type": "code",
   "execution_count": 9,
   "id": "29667494",
   "metadata": {},
   "outputs": [
    {
     "name": "stdout",
     "output_type": "stream",
     "text": [
      "6374\n",
      "3642\n",
      "716\n",
      "[\"RT @NivenJ1: “@George_Osborne: Ed Miliband proved tonight why he's not up to the job” Tbf you've spent 5 years doing that you salivating do…\", 'RT @politicshome: Ed Miliband: Last Labour government did not overspend http://t.co/W9RJ2aSH6o http://t.co/4myFekg5ex', 'If Miliband is refusing to do any deal with the SNP, how does he plan on forming a government?', 'RT @stephen501: @dunleavy138 @CrillyBobc @theSNP @UKLabour I would be happy to do a deal with the SNP, but @Ed_Miliband was clear. If you w…', 'How dare @EdMiliband_MP force Socialists to chose between the English LP and the SNP! The #SNP are the last, true Socialist party in the UK']\n",
      "[\"Corbyn must understand Labour's new members to change the party's fortunes http://t.co/7JhaSTESp8 And yet another rant from this woman :(\", 'The last thing Labour needs is a leader people want to vote for http://t.co/7zicZ1G0mb #jeremy4leader #jezwecan Do read - brilliant! :-)', 'Steve Bell on John Prescott and the Labour leadership contest – cartoon http://t.co/RL68MFPtev Let loose the dog! :)', 'http://t.co/8V7Tn5bwEK\\nBrilliant article in the independent! Sums up the current Labour leadership debacle perfectly. Enjoy! :)', '@Corbyn4Leader @labourlewis nice one Mr Lewis :)']\n",
      "[\"@rowysoIjp SAME IT'S SO CUTE I LOVE IT SO MUCH I WISH THERE WOULD BE A SEQUEL :(\", '@imallyssagail busy sa school :( next time love yah! xx', 'You´ve got me in chains for your love :´( — a sentir-se incompleta', 'I love hozier :-(', '@oH_So_EhmTee lol! I love sweet potato fries :(']\n"
     ]
    }
   ],
   "source": [
    "print(len(miliband_list))\n",
    "print(len(labour_list))\n",
    "print(len(love_list))\n",
    "\n",
    "print(miliband_list[:5])\n",
    "print(labour_list[:5])\n",
    "print(love_list[:5])"
   ]
  },
  {
   "cell_type": "markdown",
   "id": "9f52c820",
   "metadata": {},
   "source": [
    "\"Sums up the current Labour leadership debacle perfectly. Enjoy! :)\" Well, I don't think the Sentiment Analyzer is able to differentiate between real positivity and sarcasm..."
   ]
  },
  {
   "cell_type": "code",
   "execution_count": 10,
   "id": "d4abf24e",
   "metadata": {},
   "outputs": [],
   "source": [
    "def SiaAverage(list):\n",
    "    sum = 0\n",
    "    added_values = 0\n",
    "    for tweet in list:\n",
    "        added_values += sia().polarity_scores(tweet)[\"pos\"]\n",
    "        sum += 1\n",
    "    averagePos = added_values / sum\n",
    "    \n",
    "    \n",
    "    sum = 0\n",
    "    added_values = 0\n",
    "    for tweet in list:\n",
    "        added_values += sia().polarity_scores(tweet)[\"neg\"]\n",
    "        sum += 1\n",
    "    averageNeg = added_values / sum\n",
    "    \n",
    "    return averagePos, averageNeg"
   ]
  },
  {
   "cell_type": "code",
   "execution_count": 11,
   "id": "3f521da2",
   "metadata": {},
   "outputs": [],
   "source": [
    "milibandPos, milibandNeg = SiaAverage(miliband_list)\n",
    "labourPos, labourNeg = SiaAverage(labour_list)\n",
    "lovePos, loveNeg = SiaAverage(love_list)"
   ]
  },
  {
   "cell_type": "markdown",
   "id": "bf4c3bb2",
   "metadata": {},
   "source": [
    "Long calculation time..."
   ]
  },
  {
   "cell_type": "code",
   "execution_count": 12,
   "id": "8dc551df",
   "metadata": {},
   "outputs": [],
   "source": [
    "def plotOutput(list1, list2):\n",
    "    total = list1 + list2\n",
    "    a = list1 / total\n",
    "    b = list2 / total\n",
    "    \n",
    "    return a, b"
   ]
  },
  {
   "cell_type": "code",
   "execution_count": 13,
   "id": "85ea6e48",
   "metadata": {},
   "outputs": [
    {
     "data": {
      "image/png": "[encoded data removed]",
      "text/plain": [
       "<Figure size 432x288 with 1 Axes>"
      ]
     },
     "metadata": {
      "needs_background": "light"
     },
     "output_type": "display_data"
    }
   ],
   "source": [
    "A, B = plotOutput(milibandPos, milibandNeg)\n",
    "C, D = plotOutput(labourPos, labourNeg)\n",
    "E, F = plotOutput(lovePos, loveNeg)\n",
    "\n",
    "\n",
    "plt.bar(\"Miliband\", A, color = \"green\", label = \"Positive\") #a bit cheaty to use one label for all...\n",
    "plt.bar(\"Miliband\", B, color = \"red\", label = \"Negative\", bottom = A)\n",
    "\n",
    "plt.bar(\"Labour\", C, color = \"green\")\n",
    "plt.bar(\"Labour\", D, color = \"red\", bottom = C)\n",
    "\n",
    "plt.bar(\"Love\", E, color = \"green\")\n",
    "plt.bar(\"Love\", F, color = \"red\", bottom = E)\n",
    "\n",
    "plt.legend(loc=\"best\")\n",
    "\n",
    "\n",
    "plt.show()"
   ]
  },
  {
   "cell_type": "markdown",
   "id": "e7d16054",
   "metadata": {},
   "source": [
    "Well, here we have the positive and negative averages of \"Miliband\", \"Labour\" and \"Love\".\n",
    "So it seems like Twitter is more in favour of Miliband than of the party itself."
   ]
  }
 ],
 "metadata": {
  "kernelspec": {
   "display_name": "Python 3",
   "language": "python",
   "name": "python3"
  },
  "language_info": {
   "codemirror_mode": {
    "name": "ipython",
    "version": 3
   },
   "file_extension": ".py",
   "mimetype": "text/x-python",
   "name": "python",
   "nbconvert_exporter": "python",
   "pygments_lexer": "ipython3",
   "version": "3.9.2"
  }
 },
 "nbformat": 4,
 "nbformat_minor": 5
}
