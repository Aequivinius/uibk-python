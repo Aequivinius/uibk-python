{
 "cells": [
  {
   "cell_type": "markdown",
   "id": "a847722a",
   "metadata": {},
   "source": [
    "# Sentiment analysis for tweets on selected topics\n",
    "\n",
    "To make sure we have enough tweets for our topic, the tweets are first tokenized and the most common tokens read - 3 topics are chosen from them."
   ]
  },
  {
   "cell_type": "code",
   "execution_count": 34,
   "id": "51382e27",
   "metadata": {},
   "outputs": [
    {
     "name": "stderr",
     "output_type": "stream",
     "text": [
      "[nltk_data] Downloading package vader_lexicon to\n",
      "[nltk_data]     /Users/sazerac/nltk_data...\n"
     ]
    },
    {
     "data": {
      "text/plain": [
       "True"
      ]
     },
     "execution_count": 34,
     "metadata": {},
     "output_type": "execute_result"
    }
   ],
   "source": [
    "import nltk\n",
    "nltk.download('vader_lexicon', 'twitter_samples', 'stopwords')"
   ]
  },
  {
   "cell_type": "code",
   "execution_count": 71,
   "id": "6305278a",
   "metadata": {},
   "outputs": [],
   "source": [
    "from nltk.corpus import twitter_samples, stopwords\n",
    "from nltk.tokenize import TweetTokenizer\n",
    "from nltk import FreqDist\n",
    "\n",
    "### This is a library we haven't seen before but is tremendously useful when running\n",
    "### commands that take a while - just use tqdm() around any list or similar that you\n",
    "### are iterating over to display a progress bar\n",
    "from tqdm.auto import tqdm\n",
    "\n",
    "# calling set() on all tweets removes duplicates\n",
    "# since a set can only contain each element once\n",
    "tweets = set(twitter_samples.strings())\n",
    "tokenizer = TweetTokenizer()\n",
    "topics = [ \"Scotland\", \"work\", \"inequality\", \"cameron\" ]"
   ]
  },
  {
   "cell_type": "code",
   "execution_count": 72,
   "id": "ed0c1ffb",
   "metadata": {},
   "outputs": [
    {
     "data": {
      "application/vnd.jupyter.widget-view+json": {
       "model_id": "89cbf025283d44ebbc165e480cca70c1",
       "version_major": 2,
       "version_minor": 0
      },
      "text/plain": [
       "  0%|          | 0/20416 [00:00<?, ?it/s]"
      ]
     },
     "metadata": {},
     "output_type": "display_data"
    }
   ],
   "source": [
    "def tweets_to_fd(tweets):\n",
    "    \n",
    "    tokens = []\n",
    "    for tweet in tqdm(tweets):\n",
    "        tokens.extend(tokenizer.tokenize(tweet))\n",
    "    \n",
    "    english_stopwords = stopwords.words(\"english\")\n",
    "    \n",
    "    ### Note the use of isalpha() to check if a\n",
    "    ### string contains only text\n",
    "    tokens = [ t for t in tokens \n",
    "               if t.isalpha()\n",
    "               and len(t) > 1\n",
    "               and t.lower() not in english_stopwords ]\n",
    "    \n",
    "    return FreqDist(tokens)\n",
    "\n",
    "fd = tweets_to_fd(tweets)"
   ]
  },
  {
   "cell_type": "code",
   "execution_count": 73,
   "id": "0ed2d6e8",
   "metadata": {},
   "outputs": [
    {
     "data": {
      "application/vnd.jupyter.widget-view+json": {
       "model_id": "25c7efdbdab44e9eb04b0b80ad3bca6e",
       "version_major": 2,
       "version_minor": 0
      },
      "text/plain": [
       "  0%|          | 0/20416 [00:00<?, ?it/s]"
      ]
     },
     "metadata": {},
     "output_type": "display_data"
    }
   ],
   "source": [
    "def tweets_to_clusters(tweets, topics):\n",
    "    \"\"\"Given a list of tweets and a list n topic words, will return n lists of tweets\n",
    "    containing the respective word\"\"\"\n",
    "    \n",
    "    topic_tweets = { topic : [] for topic in topics }\n",
    "    \n",
    "    for tweet in tqdm(tweets):\n",
    "        tokens = [ t. lower() for t in tokenizer.tokenize(tweet) ]\n",
    "        for topic in topics:\n",
    "            if topic.lower() in tokens:\n",
    "                topic_tweets[topic].append(tweet)\n",
    "    \n",
    "    return topic_tweets\n",
    "            \n",
    "topic_tweets = tweets_to_clusters(tweets, topics)"
   ]
  },
  {
   "cell_type": "code",
   "execution_count": 74,
   "id": "250700ad",
   "metadata": {},
   "outputs": [
    {
     "data": {
      "application/vnd.jupyter.widget-view+json": {
       "model_id": "571c718ef557481abd5110545c39cb2b",
       "version_major": 2,
       "version_minor": 0
      },
      "text/plain": [
       "  0%|          | 0/416 [00:00<?, ?it/s]"
      ]
     },
     "metadata": {},
     "output_type": "display_data"
    },
    {
     "data": {
      "application/vnd.jupyter.widget-view+json": {
       "model_id": "74693b9bddfc4438b94adc69d45c409c",
       "version_major": 2,
       "version_minor": 0
      },
      "text/plain": [
       "  0%|          | 0/406 [00:00<?, ?it/s]"
      ]
     },
     "metadata": {},
     "output_type": "display_data"
    },
    {
     "data": {
      "application/vnd.jupyter.widget-view+json": {
       "model_id": "aaff14dd7372425c8e89af531f9127bb",
       "version_major": 2,
       "version_minor": 0
      },
      "text/plain": [
       "  0%|          | 0/9 [00:00<?, ?it/s]"
      ]
     },
     "metadata": {},
     "output_type": "display_data"
    },
    {
     "data": {
      "application/vnd.jupyter.widget-view+json": {
       "model_id": "17819f24be564827841e8793ef345ee7",
       "version_major": 2,
       "version_minor": 0
      },
      "text/plain": [
       "  0%|          | 0/955 [00:00<?, ?it/s]"
      ]
     },
     "metadata": {},
     "output_type": "display_data"
    }
   ],
   "source": [
    "from nltk.sentiment import SentimentIntensityAnalyzer\n",
    "sia = SentimentIntensityAnalyzer()\n",
    "\n",
    "def tweets_to_average_sentiment(tweets):\n",
    "    positive_sum = 0\n",
    "    negative_sum = 0\n",
    "    for tweet in tqdm(tweets):\n",
    "        scores = sia.polarity_scores(tweet)\n",
    "        positive_sum += scores['pos']\n",
    "        negative_sum += scores['neg']\n",
    "        \n",
    "    return positive_sum/len(tweets), negative_sum/len(tweets)\n",
    "\n",
    "topic_sentiments = { topic: {} for topic in topics }\n",
    "for topic in topics:\n",
    "    posivite, negavite = tweets_to_average_sentiment(topic_tweets[topic])\n",
    "    topic_sentiments[topic][\"positive\"] = posivite\n",
    "    topic_sentiments[topic][\"negative\"] = negavite"
   ]
  },
  {
   "cell_type": "code",
   "execution_count": 75,
   "id": "b90bac14",
   "metadata": {},
   "outputs": [
    {
     "data": {
      "text/plain": [
       "{'Scotland': {'positive': 0.08157932692307696,\n",
       "  'negative': 0.07895673076923077},\n",
       " 'work': {'positive': 0.1150443349753695, 'negative': 0.08616995073891626},\n",
       " 'inequality': {'positive': 0.08100000000000002,\n",
       "  'negative': 0.04377777777777778},\n",
       " 'cameron': {'positive': 0.09523979057591606, 'negative': 0.06082617801047123}}"
      ]
     },
     "execution_count": 75,
     "metadata": {},
     "output_type": "execute_result"
    }
   ],
   "source": [
    "topic_sentiments"
   ]
  },
  {
   "cell_type": "code",
   "execution_count": 76,
   "id": "c460938a",
   "metadata": {
    "scrolled": true
   },
   "outputs": [
    {
     "data": {
      "image/png": "[encoded data removed]",
      "text/plain": [
       "<Figure size 1440x432 with 1 Axes>"
      ]
     },
     "metadata": {
      "needs_background": "light"
     },
     "output_type": "display_data"
    }
   ],
   "source": [
    "import matplotlib.pyplot as plt\n",
    "\n",
    "positives = [ topic_sentiments[t][\"positive\"] for t in topics ]\n",
    "negatives = [ topic_sentiments[t][\"negative\"] for t in topics ]\n",
    "\n",
    "total = [ p + n for p, n in zip(positives, negatives) ]\n",
    "positives = [ p/total[i] for i, p in enumerate(positives) ]\n",
    "negatives = [ n/total[i] for i, n in enumerate(negatives) ]\n",
    "\n",
    "\n",
    "bar_width = 0.6\n",
    "\n",
    "figure, axes = plt.subplots(1, 1, figsize=(20,6), sharey=True)\n",
    "axis = axes\n",
    "\n",
    "figure.suptitle(\"Sentiments for {}\".format(\", \".join(topics)))\n",
    "axis.bar(topics, positives, bar_width, label=\"Positive score\")\n",
    "axis.bar(topics, negatives, bar_width, label=\"Negative score\", bottom=positives)\n",
    "\n",
    "\n",
    "axis.set_ylabel(\"Sentiment score\")\n",
    "axis.legend()\n",
    "axis.tick_params(left=False)\n",
    "\n",
    "axis.spines['right'].set_visible(False)\n",
    "\n",
    "plt.show()"
   ]
  },
  {
   "cell_type": "markdown",
   "id": "ab1dfe2f",
   "metadata": {},
   "source": [
    "Normalisation might not be necessarily a great idea here - it hides the *intensity* of the sentiment, which is quite low for all topics. Furthermore, this example illustrates how checking if a word appears in a tweet is only a crude measure for checking if the tweet is about that word, and whether the sentiment expressed in the tweet is about that word."
   ]
  },
  {
   "cell_type": "code",
   "execution_count": null,
   "id": "6843bfaa",
   "metadata": {},
   "outputs": [],
   "source": []
  }
 ],
 "metadata": {
  "kernelspec": {
   "display_name": "Python 3",
   "language": "python",
   "name": "python3"
  },
  "language_info": {
   "codemirror_mode": {
    "name": "ipython",
    "version": 3
   },
   "file_extension": ".py",
   "mimetype": "text/x-python",
   "name": "python",
   "nbconvert_exporter": "python",
   "pygments_lexer": "ipython3",
   "version": "3.9.5"
  }
 },
 "nbformat": 4,
 "nbformat_minor": 5
}
