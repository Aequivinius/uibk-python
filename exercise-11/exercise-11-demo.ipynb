{
 "cells": [
  {
   "cell_type": "code",
   "execution_count": 5,
   "id": "be48b730",
   "metadata": {},
   "outputs": [
    {
     "name": "stderr",
     "output_type": "stream",
     "text": [
      "[nltk_data] Downloading package stopwords to /Users/Qua/nltk_data...\n",
      "[nltk_data]   Package stopwords is already up-to-date!\n",
      "[nltk_data] Downloading package twitter_samples to\n",
      "[nltk_data]     /Users/Qua/nltk_data...\n",
      "[nltk_data]   Package twitter_samples is already up-to-date!\n",
      "[nltk_data] Downloading package vader_lexicon to\n",
      "[nltk_data]     /Users/Qua/nltk_data...\n",
      "[nltk_data]   Package vader_lexicon is already up-to-date!\n"
     ]
    },
    {
     "data": {
      "text/plain": [
       "True"
      ]
     },
     "execution_count": 5,
     "metadata": {},
     "output_type": "execute_result"
    }
   ],
   "source": [
    "import nltk\n",
    "nltk.download([\"stopwords\", \"twitter_samples\", \"vader_lexicon\"])"
   ]
  },
  {
   "cell_type": "code",
   "execution_count": 7,
   "id": "fe8215a0",
   "metadata": {},
   "outputs": [],
   "source": [
    "tweets = nltk.corpus.twitter_samples.strings()"
   ]
  },
  {
   "cell_type": "code",
   "execution_count": 8,
   "id": "4aac71aa",
   "metadata": {},
   "outputs": [
    {
     "name": "stdout",
     "output_type": "stream",
     "text": [
      "30000\n",
      "['hopeless for tmr :(', \"Everything in the kids section of IKEA is so cute. Shame I'm nearly 19 in 2 months :(\", '@Hegelbon That heart sliding into the waste basket. :(', '“@ketchBurning: I hate Japanese call him \"bani\" :( :(”\\n\\nMe too', 'Dang starting next week I have \"work\" :(']\n"
     ]
    }
   ],
   "source": [
    "print(len(tweets))\n",
    "print(tweets[:5])"
   ]
  },
  {
   "cell_type": "code",
   "execution_count": 10,
   "id": "742fbeb2",
   "metadata": {},
   "outputs": [
    {
     "name": "stdout",
     "output_type": "stream",
     "text": [
      "['hopeless for tmr :(']\n",
      "['hopeless', 'for', 'tmr', ':', '(']\n",
      "['hopeless', 'for', 'tmr', ':(']\n",
      "['Everything in the kids section of IKEA is so cute.', \"Shame I'm nearly 19 in 2 months :(\"]\n",
      "['Everything', 'in', 'the', 'kids', 'section', 'of', 'IKEA', 'is', 'so', 'cute', '.', 'Shame', 'I', \"'m\", 'nearly', '19', 'in', '2', 'months', ':', '(']\n",
      "['Everything', 'in', 'the', 'kids', 'section', 'of', 'IKEA', 'is', 'so', 'cute', '.', 'Shame', \"I'm\", 'nearly', '19', 'in', '2', 'months', ':(']\n",
      "['@Hegelbon That heart sliding into the waste basket.', ':(']\n",
      "['@', 'Hegelbon', 'That', 'heart', 'sliding', 'into', 'the', 'waste', 'basket', '.', ':', '(']\n",
      "['@Hegelbon', 'That', 'heart', 'sliding', 'into', 'the', 'waste', 'basket', '.', ':(']\n",
      "['“@ketchBurning: I hate Japanese call him \"bani\" :( :(”\\n\\nMe too']\n",
      "['“', '@', 'ketchBurning', ':', 'I', 'hate', 'Japanese', 'call', 'him', '``', 'bani', \"''\", ':', '(', ':', '(', '”', 'Me', 'too']\n",
      "['“', '@ketchBurning', ':', 'I', 'hate', 'Japanese', 'call', 'him', '\"', 'bani', '\"', ':(', ':(', '”', 'Me', 'too']\n",
      "['Dang starting next week I have \"work\" :(']\n",
      "['Dang', 'starting', 'next', 'week', 'I', 'have', '``', 'work', \"''\", ':', '(']\n",
      "['Dang', 'starting', 'next', 'week', 'I', 'have', '\"', 'work', '\"', ':(']\n"
     ]
    }
   ],
   "source": [
    "from nltk.tokenize import sent_tokenize, word_tokenize, TweetTokenizer\n",
    "tweettok = TweetTokenizer()\n",
    "\n",
    "tokens = []\n",
    "for tweet in tweets[:5]:\n",
    "    print(sent_tokenize(tweet))\n",
    "    print(word_tokenize(tweet))\n",
    "    print(tweettok.tokenize(tweet))\n",
    "    \n",
    "    tokens.extend(tweettok.tokenize(tweet))"
   ]
  },
  {
   "cell_type": "code",
   "execution_count": 13,
   "id": "5f375ea3",
   "metadata": {},
   "outputs": [
    {
     "data": {
      "text/plain": [
       "['i', 'me', 'my', 'myself', 'we', 'our', 'ours', 'ourselves', 'you', \"you're\"]"
      ]
     },
     "execution_count": 13,
     "metadata": {},
     "output_type": "execute_result"
    }
   ],
   "source": [
    "stopwords = nltk.corpus.stopwords.words(\"english\")\n",
    "stopwords[:10]"
   ]
  },
  {
   "cell_type": "code",
   "execution_count": 16,
   "id": "89e5bcac",
   "metadata": {},
   "outputs": [
    {
     "name": "stdout",
     "output_type": "stream",
     "text": [
      "47\n",
      "43\n"
     ]
    }
   ],
   "source": [
    "print(len(tokens))\n",
    "tokens = [ token for token in tokens if token.lower() not in stopwords ]\n",
    "print(len(tokens))"
   ]
  },
  {
   "cell_type": "code",
   "execution_count": 26,
   "id": "b5417c72",
   "metadata": {},
   "outputs": [
    {
     "data": {
      "text/plain": [
       "[(':(', 6),\n",
       " ('\"', 4),\n",
       " ('.', 2),\n",
       " ('hopeless', 1),\n",
       " ('tmr', 1),\n",
       " ('Everything', 1),\n",
       " ('kids', 1),\n",
       " ('section', 1),\n",
       " ('IKEA', 1),\n",
       " ('cute', 1),\n",
       " ('Shame', 1),\n",
       " (\"I'm\", 1),\n",
       " ('nearly', 1),\n",
       " ('19', 1),\n",
       " ('2', 1)]"
      ]
     },
     "execution_count": 26,
     "metadata": {},
     "output_type": "execute_result"
    }
   ],
   "source": [
    "fd = nltk.FreqDist(tokens)\n",
    "fd.most_common(15)"
   ]
  },
  {
   "cell_type": "code",
   "execution_count": 34,
   "id": "cb5fbd18",
   "metadata": {
    "scrolled": true
   },
   "outputs": [
    {
     "data": {
      "image/png": "[encoded data removed]",
      "text/plain": [
       "<Figure size 432x288 with 1 Axes>"
      ]
     },
     "metadata": {
      "needs_background": "light"
     },
     "output_type": "display_data"
    },
    {
     "data": {
      "text/plain": [
       "<AxesSubplot:xlabel='Samples', ylabel='Counts'>"
      ]
     },
     "execution_count": 34,
     "metadata": {},
     "output_type": "execute_result"
    }
   ],
   "source": [
    "fd.plot()"
   ]
  },
  {
   "cell_type": "code",
   "execution_count": 38,
   "id": "ed1bfa71",
   "metadata": {},
   "outputs": [
    {
     "data": {
      "text/plain": [
       "6"
      ]
     },
     "execution_count": 38,
     "metadata": {},
     "output_type": "execute_result"
    }
   ],
   "source": [
    "fd[\":(\"]"
   ]
  },
  {
   "cell_type": "code",
   "execution_count": 24,
   "id": "7bc90d7b",
   "metadata": {},
   "outputs": [
    {
     "data": {
      "text/plain": [
       "{'neg': 0.63, 'neu': 0.37, 'pos': 0.0, 'compound': -0.5267}"
      ]
     },
     "execution_count": 24,
     "metadata": {},
     "output_type": "execute_result"
    }
   ],
   "source": [
    "from nltk.sentiment import SentimentIntensityAnalyzer\n",
    "sia = SentimentIntensityAnalyzer()\n",
    "sia.polarity_scores(\"Trump is stupid\")"
   ]
  },
  {
   "cell_type": "code",
   "execution_count": 4,
   "id": "398790b4",
   "metadata": {},
   "outputs": [
    {
     "data": {
      "image/png": "[encoded data removed]",
      "text/plain": [
       "<Figure size 432x288 with 1 Axes>"
      ]
     },
     "metadata": {
      "needs_background": "light"
     },
     "output_type": "display_data"
    }
   ],
   "source": [
    "import matplotlib.pyplot as plt\n",
    "A = [1, 5, 17]\n",
    "B = [6, 6, 2]\n",
    "total = [ a + b for a, b in zip(A, B) ]\n",
    "A = [ a/total[i] for i, a in enumerate(A)]\n",
    "B = [ b/total[i] for i, b in enumerate(B)]\n",
    "Pos = range(3)\n",
    "plt.bar(Pos, A)\n",
    "plt.bar(Pos, B, bottom = A)\n",
    "plt.show()"
   ]
  },
  {
   "cell_type": "code",
   "execution_count": 27,
   "id": "eeb6ca3c",
   "metadata": {},
   "outputs": [
    {
     "data": {
      "image/png": "[encoded data removed]",
      "text/plain": [
       "<Figure size 432x288 with 1 Axes>"
      ]
     },
     "metadata": {
      "needs_background": "light"
     },
     "output_type": "display_data"
    }
   ],
   "source": [
    "import matplotlib.pyplot as plt\n",
    "A = [1, 5, 17]\n",
    "B = [6, 6, 2]\n",
    "Pos = range(3)\n",
    "plt.bar(Pos, A)\n",
    "plt.bar(Pos, B, bottom = A)\n",
    "plt.show()"
   ]
  },
  {
   "cell_type": "code",
   "execution_count": null,
   "id": "d9955973",
   "metadata": {},
   "outputs": [],
   "source": []
  }
 ],
 "metadata": {
  "kernelspec": {
   "display_name": "Python 3",
   "language": "python",
   "name": "python3"
  },
  "language_info": {
   "codemirror_mode": {
    "name": "ipython",
    "version": 3
   },
   "file_extension": ".py",
   "mimetype": "text/x-python",
   "name": "python",
   "nbconvert_exporter": "python",
   "pygments_lexer": "ipython3",
   "version": "3.9.5"
  }
 },
 "nbformat": 4,
 "nbformat_minor": 5
}
