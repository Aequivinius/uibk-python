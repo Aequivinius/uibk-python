{
 "cells": [
  {
   "cell_type": "markdown",
   "id": "95bcb91b",
   "metadata": {},
   "source": [
    "Here goes our code to find the 100 most frequent words in a file"
   ]
  },
  {
   "cell_type": "code",
   "execution_count": 36,
   "id": "8434acab",
   "metadata": {},
   "outputs": [],
   "source": [
    "import matplotlib.pyplot as plt\n",
    "import os\n",
    "\n",
    "def traverse_directory(path):\n",
    "    return [os.path.join(path, f) for f in os.listdir(path) if os.path.isfile(os.path.join(path, f))]\n",
    "\n",
    "path = \"corpus\"\n",
    "onlyfiles = []\n",
    "files_and_directories = os.listdir(path)\n",
    "for f in files_and_directories:\n",
    "    fpath = os.path.join(path, f)\n",
    "\n",
    "    if os.path.isfile(fpath):\n",
    "        onlyfiles.append(fpath)\n",
    "\n",
    "def tokenize_file(path):\n",
    "    f = open(path)\n",
    "    content = f.read()\n",
    "    tokens = content.split()\n",
    "    normalized_tokens = []\n",
    "    for token in tokens:\n",
    "        item = token.lower().strip(\".,?!-=[]()@1234567890\")\n",
    "        if(item != \"\" and not \"'\" in item):\n",
    "            normalized_tokens.append(item)\n",
    "            tokens = \"\"\n",
    "            \n",
    "\n",
    "    return normalized_tokens\n",
    "\n",
    "\n",
    "def compute_counts(pathlist):\n",
    "    counts = {}\n",
    "    for path in pathlist:\n",
    "        tokens = tokenize_file(path)\n",
    "        for word in tokens:\n",
    "            if word in counts:\n",
    "                counts[word] = counts[word] + 1\n",
    "            else:\n",
    "                counts[word] = 1\n",
    "    return counts\n",
    "\n",
    "\n",
    "def sort_counts(counts):\n",
    "    sorted_tuples = sorted(counts.items(), key=lambda item: item[1], reverse=True)\n",
    "    return sorted_tuples\n",
    "\n",
    "\n",
    "def get_frequencies(counts, num_words):\n",
    "    frequencies = {}\n",
    "    rank = 1\n",
    "    for word in counts:\n",
    "        frequencies[rank] = word[1]/num_words\n",
    "        rank += 1\n",
    "        if rank == 101:\n",
    "            break\n",
    "    return frequencies\n"
   ]
  },
  {
   "cell_type": "markdown",
   "id": "9aa8cd95",
   "metadata": {},
   "source": [
    "Now we upload the corpus files"
   ]
  },
  {
   "cell_type": "code",
   "execution_count": 51,
   "id": "b6a0c28a",
   "metadata": {},
   "outputs": [],
   "source": [
    "corpus = traverse_directory(\"corpus\")\n",
    "\n",
    "normalized_tokens = tokenize_file(path + \"/tv_text.txt\")\n",
    "counts = compute_counts(corpus)\n",
    "counts_sorted = sort_counts(counts)\n",
    "frequencies = get_frequencies(counts_sorted, len(normalized_tokens))\n",
    "\n",
    "corpus_shakespeare = traverse_directory(\"shakespeare_corpus\")\n",
    "\n",
    "counts_shakespeare = compute_counts(corpus_shakespeare)\n",
    "num_tokens = sum(counts_shakespeare.values())\n",
    "counts_sorted_shakespeare = sort_counts(counts_shakespeare)\n",
    "frequencies_shakespeare = get_frequencies(counts_sorted_shakespeare, num_tokens)"
   ]
  },
  {
   "cell_type": "markdown",
   "id": "9e87655c",
   "metadata": {},
   "source": [
    "Eventually, we create two plots, showing the frequencies of the 100 most used words in contemporary spoken English (left) and the 100 most used words in Shakespeares work (right). The red line shows how the frequencies should look, according to Zipf's law."
   ]
  },
  {
   "cell_type": "code",
   "execution_count": 53,
   "id": "ed8df925",
   "metadata": {},
   "outputs": [
    {
     "data": {
      "image/png": "[encoded data removed]",
      "text/plain": [
       "<Figure size 1440x432 with 2 Axes>"
      ]
     },
     "metadata": {
      "needs_background": "light"
     },
     "output_type": "display_data"
    }
   ],
   "source": [
    "\n",
    "figure, ax = plt.subplots(1, 2, figsize=(20,6))\n",
    "figure.suptitle(\"100 most used words\")\n",
    "\n",
    "\n",
    "x = frequencies.keys()\n",
    "y = frequencies.values()\n",
    "xs = frequencies_shakespeare.keys()\n",
    "ys = frequencies_shakespeare.values()\n",
    "x1 = range(1, 100)\n",
    "f1 = [ 0.1/x for x in x1 ]\n",
    "ax[0].plot(x1, f1, c=\"tab:red\")\n",
    "ax[0].bar(x, y, color=\"tab:green\")\n",
    "ax[1].plot(x1, f1, c=\"tab:red\")\n",
    "ax[1].bar(xs, ys, color=\"tab:green\")\n",
    "plt.show()"
   ]
  },
  {
   "cell_type": "code",
   "execution_count": null,
   "id": "1902e52c",
   "metadata": {},
   "outputs": [],
   "source": []
  }
 ],
 "metadata": {
  "kernelspec": {
   "display_name": "Python 3",
   "language": "python",
   "name": "python3"
  },
  "language_info": {
   "codemirror_mode": {
    "name": "ipython",
    "version": 3
   },
   "file_extension": ".py",
   "mimetype": "text/x-python",
   "name": "python",
   "nbconvert_exporter": "python",
   "pygments_lexer": "ipython3",
   "version": "3.9.2"
  },
  "toc": {
   "base_numbering": 1,
   "nav_menu": {},
   "number_sections": true,
   "sideBar": true,
   "skip_h1_title": false,
   "title_cell": "Table of Contents",
   "title_sidebar": "Contents",
   "toc_cell": false,
   "toc_position": {},
   "toc_section_display": true,
   "toc_window_display": false
  },
  "varInspector": {
   "cols": {
    "lenName": 16,
    "lenType": 16,
    "lenVar": 40
   },
   "kernels_config": {
    "python": {
     "delete_cmd_postfix": "",
     "delete_cmd_prefix": "del ",
     "library": "var_list.py",
     "varRefreshCmd": "print(var_dic_list())"
    },
    "r": {
     "delete_cmd_postfix": ") ",
     "delete_cmd_prefix": "rm(",
     "library": "var_list.r",
     "varRefreshCmd": "cat(var_dic_list()) "
    }
   },
   "types_to_exclude": [
    "module",
    "function",
    "builtin_function_or_method",
    "instance",
    "_Feature"
   ],
   "window_display": false
  }
 },
 "nbformat": 4,
 "nbformat_minor": 5
}
