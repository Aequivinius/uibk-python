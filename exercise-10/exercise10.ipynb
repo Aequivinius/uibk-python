{
 "cells": [
  {
   "cell_type": "markdown",
   "id": "nutritional-joshua",
   "metadata": {},
   "source": [
    "# Zipf's Law through the centuries\n",
    "Is Zipf right?."
   ]
  },
  {
   "cell_type": "markdown",
   "id": "herbal-channels",
   "metadata": {},
   "source": [
    "### Load modern corpus"
   ]
  },
  {
   "cell_type": "code",
   "execution_count": 46,
   "id": "confidential-plane",
   "metadata": {},
   "outputs": [
    {
     "name": "stdout",
     "output_type": "stream",
     "text": [
      "conted tokens:  2127032\n"
     ]
    }
   ],
   "source": [
    "with open(\"corpus/tv_text.txt\", encoding=\"UTF-8\") as f:\n",
    "    content_mod = f.read()\n",
    "    f.close()\n",
    "\n",
    "tokens_mod = content_mod.split()\n",
    "normalized_tokens_mod = [token.lower().strip(\",:'.!?[]()=-...\") for token in tokens_mod]\n",
    "\n",
    "final_tokens_mod = []\n",
    "for token in normalized_tokens_mod:\n",
    "    if len(token) != 0 and not token.startswith(\"@\"):\n",
    "        final_tokens_mod.append(token)\n",
    "\n",
    "print(\"conted tokens: \", len(final_tokens_mod))"
   ]
  },
  {
   "cell_type": "markdown",
   "id": "north-affect",
   "metadata": {},
   "source": [
    "### Load and pre-process Shakespeare's corpus of all his works"
   ]
  },
  {
   "cell_type": "code",
   "execution_count": 47,
   "id": "fallen-confidentiality",
   "metadata": {
    "scrolled": true
   },
   "outputs": [
    {
     "name": "stdout",
     "output_type": "stream",
     "text": [
      "conted tokens:  961105\n"
     ]
    }
   ],
   "source": [
    "import os\n",
    "\n",
    "path = \"../exercise-5/corpus\"\n",
    "path_corpus = [os.path.join(path, f) for f in os.listdir(path) if os.path.isfile(os.path.join(path, f))]\n",
    "\n",
    "final_tokens_sh = []\n",
    "for file_path in path_corpus:\n",
    "    f = open(file_path)\n",
    "    content_sh = f.read()\n",
    "    tokens_sh = content_sh.split()\n",
    "    normalized_tokens_sh = [token.lower().strip(\",':*.!?[]()=-...\") for token in tokens_sh]\n",
    "    for token in normalized_tokens_sh:\n",
    "        if len(token) != 0:\n",
    "            final_tokens_sh.append(token)\n",
    "print(\"conted tokens: \", len(final_tokens_sh))"
   ]
  },
  {
   "cell_type": "markdown",
   "id": "established-project",
   "metadata": {},
   "source": [
    "### List for the frequency of tokens"
   ]
  },
  {
   "cell_type": "code",
   "execution_count": 48,
   "id": "governing-victorian",
   "metadata": {
    "scrolled": true
   },
   "outputs": [
    {
     "name": "stdout",
     "output_type": "stream",
     "text": [
      "Contemporary corpus\t\tShakespeare's corpus\n",
      "\n",
      "you\t80256\t\t\tthe\t29236\n",
      "i\t79926\t\t\tand\t28282\n",
      "the\t63209\t\t\tto\t21905\n",
      "to\t49193\t\t\ti\t21529\n",
      "s\t43624\t\t\tof\t18428\n",
      "a\t43469\t\t\ta\t15627\n",
      "it\t38808\t\t\tyou\t14514\n",
      "and\t30468\t\t\tmy\t13055\n",
      "that\t30237\t\t\tin\t11907\n",
      "n't\t27472\t\t\tthat\t11685\n"
     ]
    }
   ],
   "source": [
    "counts_mod = {}\n",
    "\n",
    "for token in final_tokens_mod:\n",
    "    counts_mod[token] = counts_mod.get(token, 0) + 1\n",
    "frequencies_mod = sorted(counts_mod.items(), key=lambda item: item[1], reverse=True)\n",
    "\n",
    "\n",
    "counts_sh = {}\n",
    "\n",
    "for token in final_tokens_sh:\n",
    "        counts_sh[token] = counts_sh.get(token, 0) + 1\n",
    "frequencies_sh = sorted(counts_sh.items(), key=lambda item: item[1], reverse=True)\n",
    "\n",
    "print(\"Contemporary corpus\", \"Shakespeare's corpus\\n\", sep=\"\\t\\t\")\n",
    "for i in range(10):  \n",
    "    word_mod, prob_mod = frequencies_mod[i]\n",
    "    word_sh, prob_sh = frequencies_sh[i]\n",
    "    print(word_mod, prob_mod, \"\\t\", word_sh, prob_sh, sep=\"\\t\")"
   ]
  },
  {
   "cell_type": "markdown",
   "id": "suited-helmet",
   "metadata": {},
   "source": [
    "### Calculate frequencies"
   ]
  },
  {
   "cell_type": "code",
   "execution_count": 49,
   "id": "pursuant-franklin",
   "metadata": {},
   "outputs": [
    {
     "name": "stdout",
     "output_type": "stream",
     "text": [
      "Contemporary corpus\t\t\t\tShakespeare's corpus\n",
      "\n",
      "you\t0.03773144926827617\t\t\tthe\t0.03041915295415173\n",
      "i\t0.03757630350648227\t\t\tand\t0.029426545486705407\n",
      "the\t0.029716995324941046\t\t\tto\t0.022791474396658015\n",
      "to\t0.023127531696749273\t\t\ti\t0.022400258036322774\n",
      "s\t0.020509329431809206\t\t\tof\t0.019173763532600495\n",
      "a\t0.020436457937633285\t\t\ta\t0.016259409741911653\n",
      "it\t0.018245141586962492\t\t\tyou\t0.015101367696557608\n",
      "and\t0.014324185061625777\t\t\tmy\t0.013583323362171667\n",
      "that\t0.014215583028370048\t\t\tin\t0.012388864900297053\n",
      "n't\t0.012915649600006018\t\t\tthat\t0.012157880772652311\n"
     ]
    }
   ],
   "source": [
    "sum_tokens_mod = 0\n",
    "probabilities_mod = []\n",
    "for token, tokencount in frequencies_mod:\n",
    "    sum_tokens_mod += tokencount\n",
    "\n",
    "for token, tokencount in frequencies_mod:\n",
    "    probabilities_mod.append((token, tokencount/sum_tokens_mod))\n",
    "\n",
    "\n",
    "sum_tokens_sh = 0\n",
    "probabilities_sh = []\n",
    "for token, tokencount in frequencies_sh:\n",
    "    sum_tokens_sh += tokencount\n",
    "\n",
    "for token, tokencount in frequencies_sh:\n",
    "    probabilities_sh.append((token, tokencount/sum_tokens_sh))\n",
    "print(\"Contemporary corpus\", \"Shakespeare's corpus\\n\", sep=\"\\t\\t\\t\\t\")\n",
    "for i in range(10):  \n",
    "    word_mod, prob_mod = probabilities_mod[i]\n",
    "    word_sh, prob_sh = probabilities_sh[i]\n",
    "    print(word_mod, prob_mod, \"\\t\", word_sh, prob_sh, sep=\"\\t\")"
   ]
  },
  {
   "cell_type": "markdown",
   "id": "therapeutic-village",
   "metadata": {},
   "source": [
    "First, split the data into seperate lists that are required for plotting later on."
   ]
  },
  {
   "cell_type": "code",
   "execution_count": 50,
   "id": "fitting-dialogue",
   "metadata": {},
   "outputs": [],
   "source": [
    "words_mod, probability_mod = zip(*probabilities_mod[:101])\n",
    "words_sh, probability_sh = zip(*probabilities_sh[:101])"
   ]
  },
  {
   "cell_type": "code",
   "execution_count": 51,
   "id": "every-century",
   "metadata": {},
   "outputs": [
    {
     "name": "stdout",
     "output_type": "stream",
     "text": [
      "Requirement already satisfied: matplotlib in /srv/conda/envs/notebook/lib/python3.7/site-packages (3.4.2)\n",
      "Requirement already satisfied: python-dateutil>=2.7 in /srv/conda/envs/notebook/lib/python3.7/site-packages (from matplotlib) (2.8.1)\n",
      "Requirement already satisfied: numpy>=1.16 in /srv/conda/envs/notebook/lib/python3.7/site-packages (from matplotlib) (1.20.3)\n",
      "Requirement already satisfied: pyparsing>=2.2.1 in /srv/conda/envs/notebook/lib/python3.7/site-packages (from matplotlib) (2.4.7)\n",
      "Requirement already satisfied: kiwisolver>=1.0.1 in /srv/conda/envs/notebook/lib/python3.7/site-packages (from matplotlib) (1.3.1)\n",
      "Requirement already satisfied: cycler>=0.10 in /srv/conda/envs/notebook/lib/python3.7/site-packages (from matplotlib) (0.10.0)\n",
      "Requirement already satisfied: pillow>=6.2.0 in /srv/conda/envs/notebook/lib/python3.7/site-packages (from matplotlib) (8.2.0)\n",
      "Requirement already satisfied: six in /srv/conda/envs/notebook/lib/python3.7/site-packages (from cycler>=0.10->matplotlib) (1.15.0)\n"
     ]
    }
   ],
   "source": [
    "! pip install matplotlib"
   ]
  },
  {
   "cell_type": "markdown",
   "id": "capital-incidence",
   "metadata": {},
   "source": [
    "### "Zipf \n",
   ]
  },
  {
   "cell_type": "code",
   "execution_count": 52,
   "id": "further-spoke",
   "metadata": {
    "scrolled": true
   },
   "outputs": [
    {
     "name": "stdout",
     "output_type": "stream",
     "text": [
      "Contemporary corpus\t\tShakespeare's corpus\n",
      "\n",
      "0.03757630350648227\t\t0.029426545486705407\n",
      "0.05943399064988209\t\t0.04558294879331603\n",
      "0.06938259509024781\t\t0.06720077410896833\n",
      "0.08203731772723682\t\t0.07669505413040198\n",
      "0.10218228968816642\t\t0.08129704870955826\n",
      "0.10947084952177495\t\t0.09060820617934565\n",
      "0.10026929543138044\t\t0.09508326353520168\n",
      "0.11372466422696038\t\t0.09911091920237643\n",
      "0.11624084640005417\t\t0.1094209269538708\n",
      "0.11916134783115628\t\t0.1025278195410491\n",
      "0.12008799115387074\t\t0.10203359674541283\n",
      "0.1171604376426871\t\t0.1074762903116725\n",
      "0.12647153404368153\t\t0.10939907710395846\n",
      "0.13027636631700887\t\t0.11711519553014499\n",
      "0.13576664572982447\t\t0.12535571035422768\n",
      "0.13026978437559944\t\t0.1319814172228841\n",
      "0.13227351539610124\t\t0.1348884877302688\n",
      "0.13787944892225412\t\t0.13583739549789045\n",
      "0.13093456045795268\t\t0.13956851748768345\n",
      "0.13589828455801323\t\t0.1464980413170257\n",
      "0.14049153938445685\t\t0.15196570614032806\n",
      "0.1463748547271503\t\t0.15263264679717617\n",
      "0.1462159478559796\t\t0.149064878447204\n",
      "0.15252802966763077\t\t0.14643145129824525\n",
      "0.1501505384028073\t\t0.14186795407369643\n",
      "0.15545981442686335\t\t0.1438094693087644\n",
      "0.1582656020219724\t\t0.1470370042815301\n",
      "0.16361389955581299\t\t0.13564386825580974\n",
      "0.16677135087765488\t\t0.13819509835033633\n",
      "0.17133733766111653\t\t0.13512571467217424\n",
      "0.1620662030472508\t\t0.1376623782000926\n",
      "0.16700830076839465\t\t0.13797451891312604\n",
      "0.1698846091643191\t\t0.1383033071308546\n",
      "0.1654258139980969\t\t0.14143303801353652\n",
      "0.16969890438883856\t\t0.1397297901894174\n",
      "0.17016387153554813\t\t0.14038840709391795\n",
      "0.15526893812598966\t\t0.1414007834731897\n",
      "0.15735729410746996\t\t0.13984528225323975\n",
      "0.16045315726326637\t\t0.14137477174710358\n",
      "0.16152084218761165\t\t0.1412956960998018\n",
      "0.16528900364451496\t\t0.1413726908090167\n",
      "0.16612161923280888\t\t0.1435098142242523\n",
      "0.16831810710887285\t\t0.13820238163364046\n",
      "0.17173601525505963\t\t0.13615161714901078\n",
      "0.17502557554376239\t\t0.137466770019925\n",
      "0.17707679057014655\t\t0.13932504773151735\n",
      "0.17949001237404985\t\t0.14064228154051847\n",
      "0.1783442844301355\t\t0.14153708491788097\n",
      "0.18157601766216963\t\t0.14137581221614703\n",
      "0.17750085565238322\t\t0.14124367264762955\n",
      "0.18090701033176745\t\t0.1408847108276411\n",
      "0.1818139078302536\t\t0.14240275516202705\n",
      "0.18177206548843647\t\t0.13946134917620862\n",
      "0.18190135362326473\t\t0.14130610079023626\n",
      "0.1819342633303119\t\t0.1434078482579947\n",
      "0.1843996705268186\t\t0.14450034075361173\n",
      "0.18069826876135384\t\t0.14577595580087505\n",
      "0.180978001271255\t\t0.1461005821424298\n",
      "0.18204568619560024\t\t0.14720764120465507\n",
      "0.18504658133963195\t\t0.14776741355002837\n",
      "0.182222928474983\t\t0.14547005790210227\n",
      "0.18255766720952013\t\t0.14488739523777316\n",
      "0.182332940924255\t\t0.1463065950130319\n",
      "0.1791190729617608\t\t0.14696417144848897\n",
      "0.16535482305860938\t\t0.14885470370042816\n",
      "0.1564489861929675\t\t0.1508700922375807\n",
      "0.15800044381090647\t\t0.1530862913001181\n",
      "0.15907988220205432\t\t0.14624416687042519\n",
      "0.16125709439256203\t\t0.14710255383126714\n",
      "0.1617183004298948\t\t0.1465396600787635\n",
      "0.16159183312709918\t\t0.14479167208577626\n",
      "0.15936572651469277\t\t0.1460069399285198\n",
      "0.16096137716780942\t\t0.14590809536939253\n",
      "0.15954814031946862\t\t0.14667492105441132\n",
      "0.16149263386728552\t\t0.14834487386914022\n",
      "0.16246676119588233\t\t0.14858314128008906\n",
      "0.1630840532723532\t\t0.15029783426368606\n",
      "0.16333181635255134\t\t0.1439717824795418\n",
      "0.1640515986595406\t\t0.1457353775081807\n",
      "0.16582731242407261\t\t0.1465812788405013\n",
      "0.1662245796019994\t\t0.1479078768708934\n",
      "0.1682381835346154\t\t0.14794221234932706\n",
      "0.1700557396409645\t\t0.1494873088788426\n",
      "0.16985358001196033\t\t0.14997736979830506\n",
      "0.1686787034703756\t\t0.1511437355960067\n",
      "0.1671051493348478\t\t0.15265345617804507\n",
      "0.16769846433904145\t\t0.15316120507124611\n",
      "0.16855035561289158\t\t0.1486955119367811\n",
      "0.16799700239582668\t\t0.14306969581887516\n",
      "0.16971535924236214\t\t0.14374079835189704\n",
      "0.16629604068015902\t\t0.1441070434551896\n",
      "0.16561480974428217\t\t0.14502057527533413\n",
      "0.1634799100342637\t\t0.14417779535014383\n",
      "0.16448647693123564\t\t0.14162032244135656\n",
      "0.16511975372255802\t\t0.14006274028331972\n",
      "0.1640144577044445\t\t0.140538234636174\n",
      "0.16535811402931408\t\t0.14099291960815935\n",
      "0.1628240665866804\t\t0.13918354394160887\n",
      "0.16299613734067\t\t0.13730757825627793\n",
      "0.16017624558539786\t\t0.13775810135208952\n"
     ]
    }
   ],
   "source": [
    "rank = range(1, 101)\n",
    "zipfs_constant = []\n",
    "for r in rank:\n",
    "    const_mod = r * probability_mod[r]\n",
    "    const_sh = r * probability_sh[r]\n",
    "    zipfs_constant.append((const_mod, const_sh))\n",
    "print(\"Contemporary corpus\", \"Shakespeare's corpus\\n\", sep=\"\\t\\t\")\n",
    "for c_mod, c_sh in zipfs_constant:    \n",
    "    print(c_mod, c_sh, sep=\"\\t\\t\")"
   ]
  },
  {
   "cell_type": "markdown",
   "id": "destroyed-standard",
   "metadata": {},
   "source": [
    "We use Zipf's Law to see if the probabilities calculated above correspond to the probabilities by Zipf's Law.\n",
    "We divide the constant value by the rank of the word, to get the Zipf's probability of this word.\n",
    "This is what can be seen down there."
   ]
  },
  {
   "cell_type": "code",
   "execution_count": 53,
   "id": "special-bailey",
   "metadata": {},
   "outputs": [],
   "source": [
    "rank = range(1,101)\n",
    "zipfs_probability = []\n",
    "for r in rank:\n",
    "    zipfs_probability.append(0.1/r)"
   ]
  },
  {
   "cell_type": "code",
   "execution_count": 54,
   "id": "hydraulic-serbia",
   "metadata": {},
   "outputs": [
    {
     "data": {
      "image/png":\n",
      "text/plain": [
       "<Figure size 1440x720 with 2 Axes>"
      ]
     },
     "metadata": {
      "needs_background": "light"
     },
     "output_type": "display_data"
    }
   ],
   "source": [
    "import matplotlib.pyplot as plt\n",
    "\n",
    "figure, ax = plt.subplots(2, 1, figsize=(20,10))\n",
    "figure.suptitle(\"Zipf's Law\", fontsize=24)\n",
    "plt.subplots_adjust(hspace=0.5)\n",
    "\n",
    "\n",
    "ax[0].set_title(\"Contemporary corpus\", fontsize=20)\n",
    "ax[0].bar(words_mod, probability_mod, color=\"tab:olive\", alpha=0.7)\n",
    "ax[0].plot(rank, zipfs_probability, color=\"tab:red\", label=\"Zipf's Law\")\n",
    "\n",
    "ax[0].tick_params(axis=\"x\", labelrotation=70)\n",
    "ax[0].legend(loc='upper right')\n",
    "ax[0].set(xlabel=\"100 most frequent words\", ylabel=\"Probability\")\n",
    "\n",
    "\n",
    "ax[1].set_title(\"Shakespeare's corpus\", fontsize=20)\n",
    "ax[1].bar(words_sh, probability_sh, color=\"tab:cyan\", alpha=0.7)\n",
    "ax[1].plot(rank, zipfs_probability, color=\"tab:red\", label=\"Zipf's Law\")\n",
    "\n",
    "ax[1].tick_params(axis=\"x\", labelrotation=70)\n",
    "ax[1].legend(loc='upper right')\n",
    "ax[1].set(xlabel=\"100 most frequent words\", ylabel=\"Probability\")\n",
    "\n",
    "plt.show()"
   ]
  },
  {
   "cell_type": "markdown",
   "id": "continuing-chorus",
   "metadata": {},
   "source": [
    "Y is a logarithmic scale. This way, we can see the results a little better."
   ]
  },
  {
   "cell_type": "code",
   "execution_count": 55,
   "id": "wound-analysis",
   "metadata": {},
   "outputs": [
    {
     "data": {
      "image/png": "\n",
      "text/plain": [
       "<Figure size 1440x720 with 2 Axes>"
      ]
     },
     "metadata": {
      "needs_background": "light"
     },
     "output_type": "display_data"
    }
   ],
   "source": [
    "figure, ax = plt.subplots(2, 1, figsize=(20,10))\n",
    "figure.suptitle(\"Zipf's Law\", fontsize=24)\n",
    "plt.subplots_adjust(hspace=0.5)\n",
    "\n",
    "\n",
    "ax[0].set_title(\"Contemporary corpus\", fontsize=20)\n",
    "ax[0].bar(words_mod, probability_mod, color=\"tab:olive\", alpha=0.7)\n",
    "ax[0].plot(rank, zipfs_probability, color=\"tab:red\", label=\"Zipf's Law\")\n",
    "\n",
    "ax[0].tick_params(axis=\"x\", labelrotation=70)\n",
    "ax[0].legend(loc='upper right')\n",
    "ax[0].set(xlabel=\"100 most frequent words\", ylabel=\"Probability\")\n",
    "\n",
    "\n",
    "ax[1].set_title(\"Shakespeare's corpus\", fontsize=20)\n",
    "ax[1].bar(words_sh, probability_sh, color=\"tab:cyan\", alpha=0.7)\n",
    "ax[1].plot(rank, zipfs_probability, color=\"tab:red\", label=\"Zipf's Law\")\n",
    "\n",
    "ax[1].tick_params(axis=\"x\", labelrotation=70)\n",
    "ax[1].legend(loc='upper right')\n",
    "ax[1].set(xlabel=\"100 most frequent words\", ylabel=\"Probability\")\n",
    "\n",
    "# change y-scale to logarithmic scale\n",
    "ax[0].set_yscale(\"log\")\n",
    "ax[1].set_yscale(\"log\")\n",
    "plt.show()"
   ]
  },
  {
   "cell_type": "markdown",
   "id": "western-composite",
   "metadata": {},
   "source": [
    "### Result:\n",
    "The modern corpus is not perfect for Zipf's law, but it is kinda okay. The works of Shakespeare fit a little bit better to Zipf's prediction."
   ]
  }
 ],
 "metadata": {
  "kernelspec": {
   "display_name": "Python 3",
   "language": "python",
   "name": "python3"
  },
  "language_info": {
   "codemirror_mode": {
    "name": "ipython",
    "version": 3
   },
   "file_extension": ".py",
   "mimetype": "text/x-python",
   "name": "python",
   "nbconvert_exporter": "python",
   "pygments_lexer": "ipython3",
   "version": "3.7.10"
  }
 },
 "nbformat": 4,
 "nbformat_minor": 5
}
