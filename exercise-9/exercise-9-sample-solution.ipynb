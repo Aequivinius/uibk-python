{
 "cells": [
  {
   "cell_type": "markdown",
   "id": "0d9b45cb",
   "metadata": {},
   "source": [
    "# Shakespeare and his favorite words\n",
    "\n",
    "In the work below I'm taking the [Folger Shakespeare](https://shakespeare.folger.edu/cite/) corpus of the collected works of Shakespeare and find the 100 most frequent words. The pipeline has the following steps:\n",
    "\n",
    "1. Load and tokenize the text from the individual files\n",
    "2. Normalize the tokens\n",
    "3. Count and sort the tokens\n",
    "4. Remove stop words (using [this list](https://gist.github.com/sebleier/554280))"
   ]
  },
  {
   "cell_type": "code",
   "execution_count": 1,
   "id": "improved-watts",
   "metadata": {},
   "outputs": [
    {
     "name": "stdout",
     "output_type": "stream",
     "text": [
      "['much', 'ado', 'about', 'nothing', 'by']\n"
     ]
    }
   ],
   "source": [
    "import os\n",
    "\n",
    "corpus_path = \"../exercise-5/corpus/\"\n",
    "file_paths = [os.path.join(corpus_path, f) for f in os.listdir(corpus_path) if os.path.isfile(os.path.join(corpus_path, f))]\n",
    "\n",
    "tokens = []\n",
    "for path in file_paths:\n",
    "    with open(path, \"r\", encoding=\"utf-8\") as f:\n",
    "        tokens_ = f.read().split()\n",
    "        tokens.extend([token.lower().strip().strip(\".,!?[]()=-\") for token in tokens_])\n",
    "\n",
    "print(tokens[:5])"
   ]
  },
  {
   "cell_type": "code",
   "execution_count": 11,
   "id": "outer-comparison",
   "metadata": {
    "scrolled": true
   },
   "outputs": [],
   "source": [
    "counts = {}\n",
    "for token in tokens:\n",
    "    if token in counts:\n",
    "        counts[token] = counts[token] + 1\n",
    "    else:\n",
    "        counts[token] = 1\n",
    "        \n",
    "sorted_counts = sorted(counts.items(), key=lambda item: item[1], reverse=True)"
   ]
  },
  {
   "cell_type": "code",
   "execution_count": 25,
   "id": "12d746f1",
   "metadata": {
    "scrolled": true
   },
   "outputs": [
    {
     "name": "stdout",
     "output_type": "stream",
     "text": [
      "thou\t\t\t (5864 occurences)\n",
      "thy\t\t\t (4329 occurences)\n",
      "shall\t\t\t (3837 occurences)\n",
      "thee\t\t\t (3309 occurences)\n",
      "lord\t\t\t (3078 occurences)\n",
      "good\t\t\t (2876 occurences)\n",
      "king\t\t\t (2826 occurences)\n",
      "sir\t\t\t (2765 occurences)\n",
      "come\t\t\t (2527 occurences)\n",
      "enter\t\t\t (2506 occurences)\n",
      "would\t\t\t (2457 occurences)\n",
      "o\t\t\t (2249 occurences)\n",
      "let\t\t\t (2207 occurences)\n",
      "love\t\t\t (2199 occurences)\n",
      "well\t\t\t (2192 occurences)\n",
      "hath\t\t\t (2049 occurences)\n",
      "man\t\t\t (1947 occurences)\n",
      "one\t\t\t (1917 occurences)\n",
      "like\t\t\t (1905 occurences)\n",
      "upon\t\t\t (1879 occurences)\n",
      "i'll\t\t\t (1876 occurences)\n",
      "may\t\t\t (1774 occurences)\n",
      "make\t\t\t (1770 occurences)\n",
      "know\t\t\t (1754 occurences)\n",
      "go\t\t\t (1754 occurences)\n",
      "say\t\t\t (1725 occurences)\n",
      "yet\t\t\t (1708 occurences)\n",
      "us\t\t\t (1704 occurences)\n",
      "must\t\t\t (1624 occurences)\n",
      "see\t\t\t (1537 occurences)\n",
      "'tis\t\t\t (1489 occurences)\n",
      "give\t\t\t (1407 occurences)\n",
      "th'\t\t\t (1365 occurences)\n",
      "first\t\t\t (1295 occurences)\n",
      "take\t\t\t (1288 occurences)\n",
      "mine\t\t\t (1228 occurences)\n",
      "'t\t\t\t (1188 occurences)\n",
      "speak\t\t\t (1178 occurences)\n",
      "exit\t\t\t (1133 occurences)\n",
      "never\t\t\t (1132 occurences)\n",
      "exits\t\t\t (1126 occurences)\n",
      "tell\t\t\t (1102 occurences)\n",
      "time\t\t\t (1101 occurences)\n",
      "think\t\t\t (1093 occurences)\n",
      "much\t\t\t (1085 occurences)\n",
      "duke\t\t\t (1081 occurences)\n",
      "doth\t\t\t (1071 occurences)\n",
      "queen\t\t\t (1044 occurences)\n",
      "\t\t\t (1029 occurences)\n",
      "heart\t\t\t (1018 occurences)\n",
      "art\t\t\t (974 occurences)\n",
      "great\t\t\t (944 occurences)\n",
      "lady\t\t\t (938 occurences)\n",
      "men\t\t\t (920 occurences)\n",
      "hear\t\t\t (917 occurences)\n",
      "hand\t\t\t (914 occurences)\n",
      "prince\t\t\t (902 occurences)\n",
      "death\t\t\t (897 occurences)\n",
      "life\t\t\t (892 occurences)\n",
      "aside\t\t\t (888 occurences)\n",
      "made\t\t\t (888 occurences)\n",
      "away\t\t\t (882 occurences)\n",
      "look\t\t\t (864 occurences)\n",
      "father\t\t\t (854 occurences)\n",
      "fair\t\t\t (843 occurences)\n",
      "sweet\t\t\t (838 occurences)\n",
      "cannot\t\t\t (817 occurences)\n",
      "true\t\t\t (809 occurences)\n",
      "scene\t\t\t (808 occurences)\n",
      "master\t\t\t (783 occurences)\n",
      "god\t\t\t (782 occurences)\n",
      "richard\t\t\t (781 occurences)\n",
      "day\t\t\t (774 occurences)\n",
      "two\t\t\t (773 occurences)\n",
      "pray\t\t\t (771 occurences)\n",
      "eyes\t\t\t (770 occurences)\n",
      "thus\t\t\t (763 occurences)\n",
      "ay\t\t\t (754 occurences)\n",
      "son\t\t\t (743 occurences)\n",
      "old\t\t\t (739 occurences)\n",
      "mistress\t\t\t (708 occurences)\n",
      "done\t\t\t (701 occurences)\n",
      "leave\t\t\t (700 occurences)\n",
      "second\t\t\t (691 occurences)\n",
      "poor\t\t\t (691 occurences)\n",
      "whose\t\t\t (690 occurences)\n",
      "name\t\t\t (687 occurences)\n",
      "till\t\t\t (687 occurences)\n",
      "though\t\t\t (679 occurences)\n",
      "could\t\t\t (674 occurences)\n",
      "fear\t\t\t (674 occurences)\n",
      "night\t\t\t (673 occurences)\n",
      "honor\t\t\t (672 occurences)\n",
      "blood\t\t\t (672 occurences)\n",
      "noble\t\t\t (657 occurences)\n",
      "nothing\t\t\t (653 occurences)\n",
      "fool\t\t\t (653 occurences)\n",
      "world\t\t\t (652 occurences)\n",
      "therefore\t\t\t (644 occurences)\n",
      "comes\t\t\t (641 occurences)\n"
     ]
    }
   ],
   "source": [
    "stop_words = []\n",
    "with open(\"stopwords.txt\", \"r\", encoding=\"utf-8\") as f:\n",
    "    stop_words = f.read().split()\n",
    "\n",
    "filtered_counts = [ (word, frequency) for (word, frequency) in sorted_counts if word not in stop_words ]\n",
    "\n",
    "for (token, frequency) in filtered_counts[:100]:\n",
    "    print(\"{token}\\t\\t\\t ({frequency} occurences)\".format(token=token, frequency=frequency))"
   ]
  },
  {
   "attachments": {
    "you_dont_say.jpg": {
     "image/jpeg": "[encoded data removed]"
    }
   },
   "cell_type": "markdown",
   "id": "a73d6294",
   "metadata": {},
   "source": [
    "Filtering out stop words reveals in a rudimentary fashion the primary themes of Shakespeares work: Royalty (*lord*, *kind*, *sir*) and *love*; which pretty much sums it up.\n",
    "\n",
    "![no shit?](attachment:you_dont_say.jpg)"
   ]
  },
  {
   "cell_type": "code",
   "execution_count": 7,
   "id": "noble-handle",
   "metadata": {},
   "outputs": [],
   "source": [
    "with open(\"output.txt\", \"w\", encoding=\"utf-8\") as f:\n",
    "    for i, (token, count) in enumerate(sorted_counts):\n",
    "        f.write(str(i+1) + \", \" + token + \", \" + str(count))"
   ]
  }
 ],
 "metadata": {
  "kernelspec": {
   "display_name": "Python 3",
   "language": "python",
   "name": "python3"
  },
  "language_info": {
   "codemirror_mode": {
    "name": "ipython",
    "version": 3
   },
   "file_extension": ".py",
   "mimetype": "text/x-python",
   "name": "python",
   "nbconvert_exporter": "python",
   "pygments_lexer": "ipython3",
   "version": "3.9.5"
  }
 },
 "nbformat": 4,
 "nbformat_minor": 5
}
