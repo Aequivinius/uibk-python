{
 "cells": [
  {
   "cell_type": "markdown",
   "id": "whole-search",
   "metadata": {},
   "source": [
    "# Exercise 9: Find 100 most frequent word forms in corpus\n"
   ]
  },
  {
   "cell_type": "code",
   "execution_count": 4,
   "id": "differential-colonial",
   "metadata": {},
   "outputs": [],
   "source": [
    "import os"
   ]
  },
  {
   "cell_type": "markdown",
   "id": "modern-innocent",
   "metadata": {},
   "source": [
    "## Get corpus files"
   ]
  },
  {
   "cell_type": "code",
   "execution_count": 5,
   "id": "comfortable-catch",
   "metadata": {},
   "outputs": [
    {
     "name": "stdout",
     "output_type": "stream",
     "text": [
      "exercise-5/corpus\n"
     ]
    }
   ],
   "source": [
    "corpus_path = \"exercise-5/corpus\"\n",
    "print(corpus_path)"
   ]
  },
  {
   "cell_type": "markdown",
   "id": "owned-bread",
   "metadata": {},
   "source": [
    "## List the files in the path"
   ]
  },
  {
   "cell_type": "code",
   "execution_count": 6,
   "id": "descending-withdrawal",
   "metadata": {},
   "outputs": [
    {
     "name": "stdout",
     "output_type": "stream",
     "text": [
      "['exercise-5/corpus/henry-vi-part-2_TXT_FolgerShakespeare.txt', 'exercise-5/corpus/a-midsummer-nights-dream_TXT_FolgerShakespeare.txt', 'exercise-5/corpus/henry-viii_TXT_FolgerShakespeare.txt', 'exercise-5/corpus/hamlet_TXT_FolgerShakespeare.txt', 'exercise-5/corpus/henry-iv-part-1_TXT_FolgerShakespeare.txt', 'exercise-5/corpus/loves-labors-lost_TXT_FolgerShakespeare.txt', 'exercise-5/corpus/twelfth-night_TXT_FolgerShakespeare.txt', 'exercise-5/corpus/the-two-noble-kinsmen_TXT_FolgerShakespeare.txt', 'exercise-5/corpus/alls-well-that-ends-well_TXT_FolgerShakespeare.txt', 'exercise-5/corpus/richard-ii_TXT_FolgerShakespeare.txt', 'exercise-5/corpus/romeo-and-juliet_TXT_FolgerShakespeare.txt', 'exercise-5/corpus/the-merchant-of-venice_TXT_FolgerShakespeare.txt', 'exercise-5/corpus/as-you-like-it_TXT_FolgerShakespeare.txt', 'exercise-5/corpus/the-taming-of-the-shrew_TXT_FolgerShakespeare.txt', 'exercise-5/corpus/henry-iv-part-2_TXT_FolgerShakespeare.txt']\n"
     ]
    }
   ],
   "source": [
    "def traverse_directory(path):\n",
    "  return [os.path.join(path, f) for f in os.listdir(path) if os.path.isfile(os.path.join(path, f))]\n",
    "\n",
    "files = traverse_directory(corpus_path)\n",
    "print(files[:15])"
   ]
  },
  {
   "cell_type": "markdown",
   "id": "canadian-wednesday",
   "metadata": {},
   "source": [
    "## Reading files, tokenizing its content and returning a list of normalized tokens"
   ]
  },
  {
   "cell_type": "code",
   "execution_count": 7,
   "id": "received-accident",
   "metadata": {},
   "outputs": [],
   "source": [
    "def tokenize_file(path):\n",
    "  tokens = \"\"\n",
    "  with open(path, 'r') as f:\n",
    "    tokens = f.read()\n",
    "    \n",
    "  tokens_as_list = tokens.lower().split()\n",
    "  normalized_tokens = []\n",
    "  \n",
    "  for token in tokens_as_list:\n",
    "    normalized_token = ''.join(char for char in token if char.isalnum())\n",
    "    if normalized_token != \"\":\n",
    "      normalized_tokens.append(normalized_token)\n",
    "  \n",
    "  return normalized_tokens"
   ]
  },
  {
   "cell_type": "markdown",
   "id": "female-weekly",
   "metadata": {},
   "source": [
    "## Compute counts"
   ]
  },
  {
   "cell_type": "code",
   "execution_count": 8,
   "id": "civic-product",
   "metadata": {},
   "outputs": [
    {
     "name": "stdout",
     "output_type": "stream",
     "text": [
      "[('henry', 621), ('vi', 9), ('part', 485), ('2', 219), ('by', 4161), ('william', 127), ('shakespeare', 88), ('edited', 42), ('barbara', 42), ('a', 15666), ('mowat', 42), ('and', 28303), ('paul', 47), ('werstine', 42), ('with', 8616)]\n"
     ]
    }
   ],
   "source": [
    "def compute_counts(pathlist):\n",
    "  counts = {}\n",
    "  for path in pathlist:\n",
    "    tokens = tokenize_file(path)\n",
    "    for token in tokens:\n",
    "      if token in counts:\n",
    "        counts[token] = counts[token] + 1\n",
    "      else:\n",
    "        counts[token] = 1 \n",
    "  return counts\n",
    "\n",
    "counts = compute_counts(files)\n",
    "\n",
    "print(list(counts.items())[:15])"
   ]
  },
  {
   "cell_type": "markdown",
   "id": "entitled-constitution",
   "metadata": {},
   "source": [
    "## Sort counts"
   ]
  },
  {
   "cell_type": "code",
   "execution_count": 9,
   "id": "atomic-international",
   "metadata": {},
   "outputs": [
    {
     "name": "stdout",
     "output_type": "stream",
     "text": [
      "[('the', 29311), ('and', 28303), ('to', 21931), ('i', 21599), ('of', 18434), ('a', 15666), ('you', 14599), ('my', 13080), ('in', 11929), ('that', 11706), ('is', 9874), ('not', 8982), ('with', 8616), ('me', 8170), ('for', 8106)]\n"
     ]
    }
   ],
   "source": [
    "def sort_counts(counts):\n",
    "  sorted_tuples = sorted(counts.items(), key=lambda item: item[1], reverse=True)\n",
    "  return sorted_tuples\n",
    "\n",
    "sorted_counts = sort_counts(counts)\n",
    "print(sorted_counts[:15])"
   ]
  },
  {
   "cell_type": "markdown",
   "id": "enclosed-liabilities",
   "metadata": {},
   "source": [
    "## Write counts to CSV\n"
   ]
  },
  {
   "cell_type": "code",
   "execution_count": 10,
   "id": "existing-charger",
   "metadata": {},
   "outputs": [],
   "source": [
    "def write_frequencies(frequencies, path):\n",
    "  rank = 0\n",
    "  sum = 0\n",
    "  with open(path, 'w') as f:\n",
    "    for word_type in frequencies:\n",
    "      sum = sum + word_type[1]\n",
    "  # TODO: open the file at path in write mode\n",
    "    for word_type in frequencies:\n",
    "      rank = rank + 1\n",
    "      f.write(str(rank) + \",\" + str(word_type[0]) + \",\" + str(word_type[1]) + \",\" + str(word_type[1]/sum) + \"\\n\") \n",
    "\n",
    "  return\n",
    "\n",
    "write_frequencies(sorted_counts, 'frequencies.csv')"
   ]
  },
  {
   "cell_type": "markdown",
   "id": "broken-regulation",
   "metadata": {},
   "source": [
    "## Print result"
   ]
  },
  {
   "cell_type": "code",
   "execution_count": 30,
   "id": "referenced-gilbert",
   "metadata": {},
   "outputs": [
    {
     "name": "stdout",
     "output_type": "stream",
     "text": [
      "Rank\tWord_form\tCount\tFrequency\n",
      "\n",
      "1\tthe\t29311\t0.030497283326847723\n",
      "\n",
      "2\tand\t28303\t0.02944848725733585\n",
      "\n",
      "3\tto\t21931\t0.02281859781792151\n",
      "\n",
      "4\ti\t21599\t0.02247316101724895\n",
      "\n",
      "5\tof\t18434\t0.01918006621565661\n",
      "\n",
      "6\ta\t15666\t0.01630003891366369\n",
      "\n",
      "7\tyou\t14599\t0.015189854978972055\n",
      "\n",
      "8\tmy\t13080\t0.013609377568665969\n",
      "\n",
      "9\tin\t11929\t0.01241179396151501\n",
      "\n",
      "10\tthat\t11706\t0.012179768640581333\n",
      "\n",
      "11\tis\t9874\t0.010273623403135151\n",
      "\n",
      "12\tnot\t8982\t0.009345522119400438\n",
      "\n",
      "13\twith\t8616\t0.008964709260827675\n",
      "\n",
      "14\tme\t8170\t0.008500658618960318\n",
      "\n",
      "15\tfor\t8106\t0.008434068392324644\n",
      "\n",
      "16\tit\t8099\t0.008426785086286368\n",
      "\n",
      "17\the\t7946\t0.008267592825735458\n",
      "\n",
      "18\this\t7649\t0.00795857255525428\n",
      "\n",
      "19\tbe\t7293\t0.0075881644195933415\n",
      "\n",
      "20\tthis\t7107\t0.007394636573433413\n",
      "\n",
      "21\tyour\t7046\t0.0073311677636712855\n",
      "\n",
      "22\tas\t6967\t0.007248970452667875\n",
      "\n",
      "23\tbut\t6682\t0.006952435849680887\n",
      "\n",
      "24\thave\t6243\t0.006495668513851808\n",
      "\n",
      "25\tthou\t5881\t0.006119017544443774\n",
      "\n",
      "26\thim\t5561\t0.005786066411265401\n",
      "\n",
      "27\tso\t5388\t0.005606064704890844\n",
      "\n",
      "28\twill\t5273\t0.005486410391404867\n",
      "\n",
      "29\twhat\t4677\t0.004866288905860148\n",
      "\n",
      "30\ther\t4630\t0.004817386708174574\n",
      "\n",
      "31\tthy\t4334\t0.00450940690998458\n",
      "\n",
      "32\tall\t4299\t0.004472990379793196\n",
      "\n",
      "33\tby\t4161\t0.004329405203610023\n",
      "\n",
      "34\tdo\t4053\t0.004217034196162322\n",
      "\n",
      "35\tno\t4043\t0.004206629473250498\n",
      "\n",
      "36\tshall\t3852\t0.004007899265634657\n",
      "\n",
      "37\tif\t3768\t0.003920499593175334\n",
      "\n",
      "38\tare\t3678\t0.003826857086968917\n",
      "\n",
      "39\twe\t3547\t0.003690555216824021\n",
      "\n",
      "40\tthey\t3486\t0.0036270864070618936\n",
      "\n",
      "41\ton\t3418\t0.0035563342912614893\n",
      "\n",
      "42\tthee\t3372\t0.0035084725658670983\n",
      "\n",
      "43\tour\t3286\t0.0034189919488254107\n",
      "\n",
      "44\tlord\t3135\t0.0032618806328568663\n",
      "\n",
      "45\tnow\t2995\t0.0031162145120913285\n",
      "\n",
      "46\tfrom\t2936\t0.003054826646911566\n",
      "\n",
      "47\tshe\t2920\t0.0030381790902526476\n",
      "\n",
      "48\tgood\t2908\t0.0030256934227584583\n",
      "\n",
      "49\tking\t2861\t0.002976791225072885\n",
      "\n",
      "50\tsir\t2816\t0.0029299699719696763\n",
      "\n",
      "51\tat\t2723\t0.002833206048889712\n",
      "\n",
      "52\to\t2712\t0.0028217608536867055\n",
      "\n",
      "53\tor\t2632\t0.0027385230703921124\n",
      "\n",
      "54\twell\t2579\t0.0026833780389594443\n",
      "\n",
      "55\tcome\t2557\t0.0026604876485534315\n",
      "\n",
      "56\twhich\t2517\t0.002618868756906135\n",
      "\n",
      "57\tenter\t2506\t0.0026074235617031282\n",
      "\n",
      "58\tmore\t2504\t0.0026053426171207634\n",
      "\n",
      "59\twould\t2465\t0.0025647641977646495\n",
      "\n",
      "60\twas\t2428\t0.0025262667229909\n",
      "\n",
      "61\tthen\t2417\t0.0025148215277878937\n",
      "\n",
      "62\ttheir\t2367\t0.0024627979132287726\n",
      "\n",
      "63\tam\t2298\t0.002391005325137186\n",
      "\n",
      "64\thow\t2257\t0.0023483459611987074\n",
      "\n",
      "65\there\t2253\t0.0023441840720339778\n",
      "\n",
      "66\tlove\t2249\t0.002340022182869248\n",
      "\n",
      "67\tlet\t2220\t0.002309848486424958\n",
      "\n",
      "68\twhen\t2204\t0.0022932009297660393\n",
      "\n",
      "69\till\t2137\t0.0022234892862568177\n",
      "\n",
      "70\tthem\t2104\t0.002189153700647798\n",
      "\n",
      "71\thath\t2055\t0.0021381705583798597\n",
      "\n",
      "72\tthan\t2013\t0.0020944707221501983\n",
      "\n",
      "73\tman\t1984\t0.0020642970257059084\n",
      "\n",
      "74\tan\t1965\t0.0020445280521734425\n",
      "\n",
      "75\tone\t1944\t0.002022678134058612\n",
      "\n",
      "76\tthere\t1921\t0.0019987472713614163\n",
      "\n",
      "77\tlike\t1907\t0.0019841806592848627\n",
      "\n",
      "78\tupon\t1885\t0.0019612902688788494\n",
      "\n",
      "79\tmay\t1784\t0.0018562025674694258\n",
      "\n",
      "80\tmake\t1774\t0.0018457978445576015\n",
      "\n",
      "81\tgo\t1774\t0.0018457978445576015\n",
      "\n",
      "82\tknow\t1773\t0.0018447573722664191\n",
      "\n",
      "83\tsay\t1745\t0.0018156241481133116\n",
      "\n",
      "84\tdid\t1739\t0.0018093813143662172\n",
      "\n",
      "85\tus\t1734\t0.001804178952910305\n",
      "\n",
      "86\twere\t1721\t0.0017906528131249337\n",
      "\n",
      "87\tyet\t1721\t0.0017906528131249337\n",
      "\n",
      "88\tshould\t1696\t0.0017646410058453734\n",
      "\n",
      "89\tmust\t1627\t0.0016928484177537867\n",
      "\n",
      "90\tsee\t1554\t0.0016168939404974706\n",
      "\n",
      "91\thad\t1544\t0.0016064892175856466\n",
      "\n",
      "92\twhy\t1537\t0.0015992059115473695\n",
      "\n",
      "93\tsuch\t1518\t0.0015794369380149036\n",
      "\n",
      "94\ttis\t1505\t0.0015659107982295324\n",
      "\n",
      "95\tout\t1469\t0.0015284537957469654\n",
      "\n",
      "96\tsome\t1423\t0.0014805920703525744\n",
      "\n",
      "97\tgive\t1417\t0.00147434923660548\n",
      "\n",
      "98\tthese\t1402\t0.0014587421522377437\n",
      "\n",
      "99\tth\t1366\t0.0014212851497551768\n",
      "\n",
      "100\twho\t1350\t0.0014046375930962583\n",
      "\n"
     ]
    }
   ],
   "source": [
    "def print_top_100(frequencies):\n",
    "    rank = 1\n",
    "    sum_all_counts = 0\n",
    "    for word_type in frequencies:\n",
    "        sum_all_counts = sum_all_counts + word_type[1]\n",
    "\n",
    "    print(\"Rank\\t\" + \"Word_form\\t\" + \"Count\\t\" + \"Frequency\\n\")\n",
    "    for word_type in frequencies:\n",
    "        frequency = word_type[1]/sum_all_counts\n",
    "        print(str(rank) + \"\\t\" + word_type[0] + \"\\t\" + str(word_type[1]) + \"\\t\" + str(frequency) + \"\\n\")\n",
    "        rank +=1\n",
    "        if rank == 101:\n",
    "            break\n",
    "    return\n",
    "\n",
    "\n",
    "print_top_100(sorted_counts)"
   ]
  }
 ],
 "metadata": {
  "kernelspec": {
   "display_name": "Python 3",
   "language": "python",
   "name": "python3"
  },
  "language_info": {
   "codemirror_mode": {
    "name": "ipython",
    "version": 3
   },
   "file_extension": ".py",
   "mimetype": "text/x-python",
   "name": "python",
   "nbconvert_exporter": "python",
   "pygments_lexer": "ipython3",
   "version": "3.7.10"
  }
 },
 "nbformat": 4,
 "nbformat_minor": 5
}
