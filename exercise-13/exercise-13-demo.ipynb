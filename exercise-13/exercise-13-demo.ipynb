{
 "cells": [
  {
   "cell_type": "code",
   "execution_count": 126,
   "id": "4ecb4cc8",
   "metadata": {},
   "outputs": [],
   "source": [
    "import spacy\n",
    "from scipy import spatial\n",
    "from tqdm.auto import tqdm\n",
    "\n",
    "nlp = spacy.load('en_core_web_lg')"
   ]
  },
  {
   "cell_type": "code",
   "execution_count": 116,
   "id": "5a47775b",
   "metadata": {},
   "outputs": [
    {
     "name": "stdout",
     "output_type": "stream",
     "text": [
      "True\n",
      "True\n",
      "True\n",
      "True\n",
      "True\n",
      "True\n",
      "True\n",
      "(300,)\n"
     ]
    }
   ],
   "source": [
    "text = nlp(\"Doggos are a man's best friend\")\n",
    "for token in text:\n",
    "    print(token.has_vector)\n",
    "print(text[-1].vector.shape)"
   ]
  },
  {
   "cell_type": "code",
   "execution_count": 125,
   "id": "883486a6",
   "metadata": {},
   "outputs": [
    {
     "name": "stdout",
     "output_type": "stream",
     "text": [
      "0.8016854705531046\n"
     ]
    }
   ],
   "source": [
    "print(nlp(\"dog\").similarity(nlp(\"cat\")))"
   ]
  },
  {
   "cell_type": "code",
   "execution_count": 131,
   "id": "98e4a822",
   "metadata": {},
   "outputs": [
    {
     "data": {
      "application/vnd.jupyter.widget-view+json": {
       "model_id": "105a43d20256450dbfab7f115d02e61f",
       "version_major": 2,
       "version_minor": 0
      },
      "text/plain": [
       "  0%|          | 0/707001 [00:00<?, ?it/s]"
      ]
     },
     "metadata": {},
     "output_type": "display_data"
    },
    {
     "data": {
      "text/plain": [
       "[('magician', 1),\n",
       " ('illusionist', 0.7600550651550293),\n",
       " ('magicians', 0.758108377456665),\n",
       " ('juggler', 0.6438010334968567),\n",
       " ('sorcerer', 0.6409605145454407),\n",
       " ('conjurer', 0.6379052996635437),\n",
       " ('entertainer', 0.624975860118866),\n",
       " ('hypnotist', 0.6171656847000122),\n",
       " ('magic', 0.61439049243927),\n",
       " ('mentalist', 0.5969846248626709)]"
      ]
     },
     "execution_count": 131,
     "metadata": {},
     "output_type": "execute_result"
    }
   ],
   "source": [
    "def most_similar(vector, nlp, n=5):\n",
    "    cosine_similarity = lambda x, y: 1 - spatial.distance.cosine(x,y)\n",
    "\n",
    "    similars = []\n",
    "    \n",
    "    for word in tqdm(nlp.vocab.strings):\n",
    "        if word.islower() and nlp.vocab[word].has_vector and nlp.vocab[word].is_alpha:\n",
    "            sim = cosine_similarity(vector, nlp.vocab[word].vector)\n",
    "            similars.append((word, sim))\n",
    "    return sorted(similars, key=lambda item: -item[1])[:n]\n",
    "\n",
    "most_similar(nlp(\"magician\").vector, nlp, 10)"
   ]
  },
  {
   "cell_type": "code",
   "execution_count": 148,
   "id": "2b1acba8",
   "metadata": {},
   "outputs": [
    {
     "data": {
      "text/plain": [
       "(300,)"
      ]
     },
     "execution_count": 148,
     "metadata": {},
     "output_type": "execute_result"
    }
   ],
   "source": [
    "starting_point = nlp.vocab['queen'].vector\n",
    "subtrahend = nlp.vocab['woman'].vector\n",
    "addend = nlp.vocab['man'].vector\n",
    "result = starting_point - subtrahend + addend\n",
    "result.shape"
   ]
  },
  {
   "cell_type": "code",
   "execution_count": null,
   "id": "fef05dad",
   "metadata": {
    "scrolled": true
   },
   "outputs": [],
   "source": [
    "most_similar(result, nlp, 3)"
   ]
  },
  {
   "cell_type": "code",
   "execution_count": null,
   "id": "7d485cc5",
   "metadata": {
    "scrolled": true
   },
   "outputs": [],
   "source": [
    "starting_point = nlp.vocab['basil'].vector\n",
    "subtrahend = nlp.vocab['italy'].vector\n",
    "addend = nlp.vocab['japan'].vector\n",
    "result = starting_point - subtrahend + addend\n",
    "most_similar(result, nlp)"
   ]
  },
  {
   "cell_type": "code",
   "execution_count": null,
   "id": "4b3edfb4",
   "metadata": {},
   "outputs": [],
   "source": [
    "starting_point = nlp.vocab['sarkozy'].vector\n",
    "subtrahend = nlp.vocab['france'].vector\n",
    "addend = nlp.vocab['germany'].vector\n",
    "result = starting_point - subtrahend + addend\n",
    "most_similar(result, nlp)"
   ]
  },
  {
   "cell_type": "code",
   "execution_count": null,
   "id": "9f79c452",
   "metadata": {},
   "outputs": [],
   "source": [
    "starting_point = nlp(\"heidegger\").vector\n",
    "subtrahend = nlp.vocab['germany'].vector\n",
    "addend = nlp.vocab['france'].vector\n",
    "result = starting_point - subtrahend + addend\n",
    "most_similar(result, nlp)"
   ]
  },
  {
   "cell_type": "code",
   "execution_count": null,
   "id": "1d7d3255",
   "metadata": {},
   "outputs": [],
   "source": []
  }
 ],
 "metadata": {
  "kernelspec": {
   "display_name": "Python 3",
   "language": "python",
   "name": "python3"
  },
  "language_info": {
   "codemirror_mode": {
    "name": "ipython",
    "version": 3
   },
   "file_extension": ".py",
   "mimetype": "text/x-python",
   "name": "python",
   "nbconvert_exporter": "python",
   "pygments_lexer": "ipython3",
   "version": "3.9.5"
  }
 },
 "nbformat": 4,
 "nbformat_minor": 5
}
